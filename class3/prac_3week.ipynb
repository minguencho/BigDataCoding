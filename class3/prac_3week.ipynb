{
 "cells": [
  {
   "attachments": {},
   "cell_type": "markdown",
   "metadata": {},
   "source": [
    "# 빅데이터 코딩 3주차"
   ]
  },
  {
   "attachments": {},
   "cell_type": "markdown",
   "metadata": {},
   "source": [
    "## 1) numpy module (배열, 수치계산)"
   ]
  },
  {
   "cell_type": "code",
   "execution_count": 3,
   "metadata": {},
   "outputs": [],
   "source": [
    "import numpy as np\n",
    "\n",
    "#numpy 모듈은 다차원 배열을 다루는 함수임"
   ]
  },
  {
   "cell_type": "code",
   "execution_count": 5,
   "metadata": {},
   "outputs": [
    {
     "name": "stdout",
     "output_type": "stream",
     "text": [
      "[1 2 3 4 5] <class 'numpy.ndarray'>\n"
     ]
    }
   ],
   "source": [
    "# 1차원 배열 -> list가 아닌 numpy.ndarray 타입임\n",
    "# so , list 타입을 사용하려면 형변환이 필요함\n",
    "\n",
    "a = np.array([1,2,3,4,5])\n",
    "print(a,type(a))\n"
   ]
  },
  {
   "cell_type": "code",
   "execution_count": 11,
   "metadata": {},
   "outputs": [
    {
     "name": "stdout",
     "output_type": "stream",
     "text": [
      "[[1 3 5]\n",
      " [2 4 6]]\n"
     ]
    }
   ],
   "source": [
    "# 2차원 배열\n",
    "b = np.array([[1,3,5],[2,4,6]])\n",
    "print(b)"
   ]
  },
  {
   "cell_type": "code",
   "execution_count": 14,
   "metadata": {},
   "outputs": [
    {
     "name": "stdout",
     "output_type": "stream",
     "text": [
      "[[[1 3]\n",
      "  [2 4]]\n",
      "\n",
      " [[5 6]\n",
      "  [4 1]]]\n"
     ]
    }
   ],
   "source": [
    "# 3차원 배열\n",
    "c = np.array([[[1,3],[2,4]],[[5,6],[4,1]]])\n",
    "print(c)"
   ]
  },
  {
   "cell_type": "code",
   "execution_count": 23,
   "metadata": {},
   "outputs": [
    {
     "name": "stdout",
     "output_type": "stream",
     "text": [
      "[6 7]\n",
      "8\n",
      "8\n"
     ]
    }
   ],
   "source": [
    "# 3X5 3열 5행\n",
    "#np array\n",
    "d = np.array([[1,2,3,4,5],\\\n",
    "            [2,4,6,7,8],\\\n",
    "            [5,6,7,8,9]])\n",
    "\n",
    "#list\n",
    "list_ = [[1,2,3,4,5],\\\n",
    "        [2,4,6,7,8],\\\n",
    "        [5,6,7,8,9]]\n",
    "\n",
    "print(d[2][1:3])\n",
    "\n",
    "print(d[2,3])\n",
    "\n",
    "print(list_[2][3])"
   ]
  },
  {
   "cell_type": "code",
   "execution_count": 24,
   "metadata": {},
   "outputs": [
    {
     "name": "stdout",
     "output_type": "stream",
     "text": [
      "(3, 5)\n"
     ]
    }
   ],
   "source": [
    "# shape : 배열의 크기\n",
    "# np.shape()\n",
    "print(d.shape)\n",
    "# (n행, m열)"
   ]
  },
  {
   "cell_type": "code",
   "execution_count": 31,
   "metadata": {},
   "outputs": [
    {
     "name": "stdout",
     "output_type": "stream",
     "text": [
      "['1' '3.2' 'string']\n",
      "[3.2 4.2]\n",
      "<U5\n",
      "<U32\n",
      "float64\n"
     ]
    }
   ],
   "source": [
    "# dtype() : 배열 원소 자료형 확인\n",
    "# int (32/64) bit\n",
    "# float (32/64)\n",
    "# bool\n",
    "# string\n",
    "\n",
    "# 서로 다른 형태가 들어가있는 배열\n",
    "e = np.array([1,3.2,'string'])\n",
    "print(e)\n",
    "\n",
    "# 같은 타입\n",
    "e1 = np.array([3.2,4.2])\n",
    "print(e1)\n",
    "\n",
    "e2 = np.array(['one','two','three'])\n",
    "\n",
    "# U5 : 유니코드 5\n",
    "print(e2.dtype)\n",
    "\n",
    "# U32 : 유니코드 32\n",
    "print(e.dtype)\n",
    "\n",
    "print(e1.dtype)"
   ]
  },
  {
   "cell_type": "code",
   "execution_count": 36,
   "metadata": {},
   "outputs": [
    {
     "name": "stdout",
     "output_type": "stream",
     "text": [
      "int32\n",
      "[1 2]\n",
      "float64\n",
      "[1. 2.]\n"
     ]
    }
   ],
   "source": [
    "# 배열 유형 바꾸기\n",
    "# astype() : 임시 형 변환\n",
    "\n",
    "g = np.array([1,2])\n",
    "print(g.dtype)\n",
    "print(g)\n",
    "\n",
    "k = g.astype('float64')\n",
    "print(k.dtype)\n",
    "print(k)"
   ]
  },
  {
   "cell_type": "code",
   "execution_count": 37,
   "metadata": {},
   "outputs": [
    {
     "name": "stdout",
     "output_type": "stream",
     "text": [
      "[[0. 0. 0.]\n",
      " [0. 0. 0.]]\n"
     ]
    }
   ],
   "source": [
    "# numpy의 배열 만드는 함수\n",
    "# zeros(n행,m열) : 0으로 이루어진 배열\n",
    "\n",
    "a = np.zeros((2,3))\n",
    "print(a)"
   ]
  },
  {
   "cell_type": "code",
   "execution_count": 39,
   "metadata": {},
   "outputs": [
    {
     "name": "stdout",
     "output_type": "stream",
     "text": [
      "[[1. 1. 1.]\n",
      " [1. 1. 1.]]\n"
     ]
    }
   ],
   "source": [
    "# ones() : 1로 이루어진 배열\n",
    "\n",
    "b = np.ones([2,3])\n",
    "print(b)"
   ]
  },
  {
   "cell_type": "code",
   "execution_count": 41,
   "metadata": {},
   "outputs": [
    {
     "name": "stdout",
     "output_type": "stream",
     "text": [
      "[2 3 4 5 6 7 8 9]\n"
     ]
    }
   ],
   "source": [
    "# arange(2,10)\n",
    "# 2-9까지 이루어진 배열\n",
    "\n",
    "c = np.arange(2,10)\n",
    "print(c)"
   ]
  },
  {
   "cell_type": "code",
   "execution_count": 48,
   "metadata": {},
   "outputs": [
    {
     "name": "stdout",
     "output_type": "stream",
     "text": [
      "[[1 2 3]\n",
      " [4 5 6]]\n",
      "[[1 4]\n",
      " [2 5]\n",
      " [3 6]]\n"
     ]
    }
   ],
   "source": [
    "# transpose() \n",
    "# 행 열 전환\n",
    "d = np.array([[1,2,3],[4,5,6]])\n",
    "print(d)\n",
    "print(np.transpose(d))"
   ]
  },
  {
   "cell_type": "code",
   "execution_count": 57,
   "metadata": {},
   "outputs": [
    {
     "name": "stdout",
     "output_type": "stream",
     "text": [
      "[[12 14 16]\n",
      " [18 20 22]]\n",
      "[[-10 -10 -10]\n",
      " [-10 -10 -10]]\n",
      "[[11 24 39]\n",
      " [56 75 96]]\n",
      "[[101 202 303]\n",
      " [104 205 306]]\n"
     ]
    }
   ],
   "source": [
    "# array 연산\n",
    "arr1 = np.array([[1,2,3]\\\n",
    "                ,[4,5,6]])\n",
    "arr2 = np.array([[11,12,13]\\\n",
    "                ,[14,15,16]])\n",
    "\n",
    "# +/- 는 일반적인\n",
    "print(arr1+arr2)\n",
    "print(arr1-arr2)\n",
    "\n",
    "# 일반적인 곱셈이 아니라 행렬의 곱임.\n",
    "print(arr1*arr2)\n",
    "\n",
    "#서로 다른 크기의 행렬 더하기\n",
    "arr3 = np.array([100,200,300])\n",
    "print(arr1+arr3)\n"
   ]
  },
  {
   "cell_type": "code",
   "execution_count": 65,
   "metadata": {},
   "outputs": [
    {
     "name": "stdout",
     "output_type": "stream",
     "text": [
      "7\n",
      "1\n",
      "[[ 1  2  3  4  5]\n",
      " [ 6  7  8  9 10]\n",
      " [ 5  7  9 10  2]]\n",
      "[[ 1  1  1  1  1]\n",
      " [ 1  1  1  1  1]\n",
      " [ 5  7  9 10  2]]\n"
     ]
    }
   ],
   "source": [
    "# slice\n",
    "a_list = [[1,2,3,4,5],[6,7,8,9,10],[5,7,9,10,2]]\n",
    "a = np.array([[1,2,3,4,5],[6,7,8,9,10],[5,7,9,10,2]])\n",
    "print(a_list[2][1])\n",
    "\n",
    "a_list[2][1] = 1\n",
    "\n",
    "print(a_list[2][1])\n",
    "\n",
    "print(a)\n",
    "a[:2] = 1\n",
    "print(a)"
   ]
  },
  {
   "attachments": {},
   "cell_type": "markdown",
   "metadata": {},
   "source": [
    "## 2) pandas module (통계 분석)"
   ]
  },
  {
   "cell_type": "code",
   "execution_count": 5,
   "metadata": {},
   "outputs": [
    {
     "name": "stdout",
     "output_type": "stream",
     "text": [
      "Package            Version\n",
      "------------------ -----------\n",
      "astroid            2.5.1\n",
      "asttokens          2.2.1\n",
      "backcall           0.2.0\n",
      "beautifulsoup4     4.11.1\n",
      "bs4                0.0.1\n",
      "certifi            2022.9.24\n",
      "charset-normalizer 2.1.1\n",
      "colorama           0.4.4\n",
      "comm               0.1.2\n",
      "debugpy            1.6.4\n",
      "decorator          5.1.1\n",
      "entrypoints        0.4\n",
      "executing          1.2.0\n",
      "idna               3.4\n",
      "ipykernel          6.19.4\n",
      "ipython            8.7.0\n",
      "isort              5.7.0\n",
      "jedi               0.18.2\n",
      "jupyter_client     7.4.8\n",
      "jupyter_core       5.1.1\n",
      "lazy-object-proxy  1.5.2\n",
      "matplotlib-inline  0.1.6\n",
      "mccabe             0.6.1\n",
      "nest-asyncio       1.5.6\n",
      "numpy              1.24.1\n",
      "packaging          22.0\n",
      "pandas             1.5.2\n",
      "parso              0.8.3\n",
      "pickleshare        0.7.5\n",
      "platformdirs       2.6.0\n",
      "prompt-toolkit     3.0.36\n",
      "psutil             5.9.4\n",
      "pure-eval          0.2.2\n",
      "Pygments           2.13.0\n",
      "pylint             2.7.2\n",
      "python-dateutil    2.8.2\n",
      "pytz               2022.7\n",
      "pywin32            305\n",
      "pyzmq              24.0.1\n",
      "requests           2.28.1\n",
      "six                1.16.0\n",
      "soupsieve          2.3.2.post1\n",
      "stack-data         0.6.2\n",
      "toml               0.10.2\n",
      "tornado            6.2\n",
      "traitlets          5.8.0\n",
      "urllib3            1.26.12\n",
      "wcwidth            0.2.5\n",
      "wrapt              1.12.1\n"
     ]
    },
    {
     "name": "stderr",
     "output_type": "stream",
     "text": [
      "WARNING: You are using pip version 22.0.4; however, version 22.3.1 is available.\n",
      "You should consider upgrading via the 'C:\\Users\\조민근\\AppData\\Local\\Microsoft\\WindowsApps\\PythonSoftwareFoundation.Python.3.9_qbz5n2kfra8p0\\python.exe -m pip install --upgrade pip' command.\n"
     ]
    }
   ],
   "source": [
    "!pip list"
   ]
  },
  {
   "cell_type": "code",
   "execution_count": 9,
   "metadata": {},
   "outputs": [],
   "source": [
    "import pandas as pd"
   ]
  },
  {
   "cell_type": "code",
   "execution_count": 10,
   "metadata": {},
   "outputs": [],
   "source": [
    "# 1. 딕셔너리(사전형) 만들기\n",
    "data = {'name' : ['Mark','Jane','Chris','Ryan'],\\\n",
    "        'age' : [33,32,35,42],\\\n",
    "        'score' : [91.2,83.4,77.5,87.7]}"
   ]
  },
  {
   "cell_type": "code",
   "execution_count": 11,
   "metadata": {},
   "outputs": [],
   "source": [
    "#Dataframe\n",
    "df = pd.DataFrame(data)"
   ]
  },
  {
   "cell_type": "code",
   "execution_count": 4,
   "metadata": {},
   "outputs": [
    {
     "name": "stdout",
     "output_type": "stream",
     "text": [
      "합계 - \n",
      " name     MarkJaneChrisRyan\n",
      "age                    142\n",
      "score                339.8\n",
      "dtype: object\n"
     ]
    }
   ],
   "source": [
    "# sum() : 합계\n",
    "print('합계 - \\n', df.sum())"
   ]
  },
  {
   "cell_type": "code",
   "execution_count": 5,
   "metadata": {},
   "outputs": [
    {
     "name": "stdout",
     "output_type": "stream",
     "text": [
      "평균 - \n",
      " age      35.50\n",
      "score    84.95\n",
      "dtype: float64\n"
     ]
    },
    {
     "name": "stderr",
     "output_type": "stream",
     "text": [
      "C:\\Users\\조민근\\AppData\\Local\\Temp\\ipykernel_13876\\1417949945.py:2: FutureWarning: The default value of numeric_only in DataFrame.mean is deprecated. In a future version, it will default to False. In addition, specifying 'numeric_only=None' is deprecated. Select only valid columns or specify the value of numeric_only to silence this warning.\n",
      "  print('평균 - \\n', df.mean())\n"
     ]
    }
   ],
   "source": [
    "# mean() : 평균\n",
    "print('평균 - \\n', df.mean())"
   ]
  },
  {
   "cell_type": "code",
   "execution_count": 12,
   "metadata": {},
   "outputs": [
    {
     "name": "stdout",
     "output_type": "stream",
     "text": [
      "0     Mark\n",
      "1     Jane\n",
      "2    Chris\n",
      "3     Ryan\n",
      "Name: name, dtype: object\n",
      "0     Mark\n",
      "1     Jane\n",
      "2    Chris\n",
      "3     Ryan\n",
      "Name: name, dtype: object\n"
     ]
    }
   ],
   "source": [
    "# 데이터 선택하기\n",
    "print(df.name)\n",
    "print(df['name'])"
   ]
  },
  {
   "cell_type": "code",
   "execution_count": 22,
   "metadata": {},
   "outputs": [
    {
     "name": "stdout",
     "output_type": "stream",
     "text": [
      "                 지역      번지   본번  부번           아파트       면적    계약년월  계약일  \\\n",
      "0       강원도 강릉시 견소동     202  202   0          송정한신   59.800  201910    4   \n",
      "1       강원도 강릉시 견소동     202  202   0          송정한신  116.175  201910   31   \n",
      "2       강원도 강릉시 견소동     289  289   0  송정해변신도브래뉴아파트   84.990  201910    5   \n",
      "3       강원도 강릉시 견소동     289  289   0  송정해변신도브래뉴아파트   84.990  201910   12   \n",
      "4       강원도 강릉시 견소동     289  289   0  송정해변신도브래뉴아파트   84.990  201910   20   \n",
      "...             ...     ...  ...  ..           ...      ...     ...  ...   \n",
      "42753  충청북도 충주시 호암동   547-6  547   6          호반현대   59.760  201910   29   \n",
      "42754  충청북도 충주시 호암동  221-23  221  23    호암리버빌(1단지)   84.680  201910    5   \n",
      "42755  충청북도 충주시 호암동  221-23  221  23    호암리버빌(1단지)   84.680  201910   15   \n",
      "42756  충청북도 충주시 호암동  221-23  221  23    호암리버빌(1단지)   84.680  201910   17   \n",
      "42757  충청북도 충주시 호암동  221-23  221  23    호암리버빌(1단지)   84.680  201910   26   \n",
      "\n",
      "          가격   층  건축년도           도로명  \n",
      "0      10900   5  1997   경강로2539번길 8  \n",
      "1      18500  10  1997   경강로2539번길 8  \n",
      "2      25000   6  2005  경강로2539번길 22  \n",
      "3      20600   3  2005  경강로2539번길 22  \n",
      "4      20500   1  2005  경강로2539번길 22  \n",
      "...      ...  ..   ...           ...  \n",
      "42753   7000   3  1994       신촌2길 28  \n",
      "42754  12000  15  2002      원호암5길 32  \n",
      "42755  11000   7  2002      원호암5길 32  \n",
      "42756  12000  14  2002      원호암5길 32  \n",
      "42757  11200  11  2002      원호암5길 32  \n",
      "\n",
      "[42758 rows x 12 columns]\n"
     ]
    }
   ],
   "source": [
    "# read_csv() csv file을 dataframe으로 바꿔주는 함수\n",
    "df = pd.read_csv('apt.csv',encoding='cp949')\n",
    "print(df)"
   ]
  },
  {
   "cell_type": "code",
   "execution_count": 17,
   "metadata": {},
   "outputs": [
    {
     "name": "stdout",
     "output_type": "stream",
     "text": [
      "            지역   번지   본번  부번           아파트       면적    계약년월  계약일     가격   층  \\\n",
      "0  강원도 강릉시 견소동  202  202   0          송정한신   59.800  201910    4  10900   5   \n",
      "1  강원도 강릉시 견소동  202  202   0          송정한신  116.175  201910   31  18500  10   \n",
      "2  강원도 강릉시 견소동  289  289   0  송정해변신도브래뉴아파트   84.990  201910    5  25000   6   \n",
      "3  강원도 강릉시 견소동  289  289   0  송정해변신도브래뉴아파트   84.990  201910   12  20600   3   \n",
      "4  강원도 강릉시 견소동  289  289   0  송정해변신도브래뉴아파트   84.990  201910   20  20500   1   \n",
      "\n",
      "   건축년도           도로명  \n",
      "0  1997   경강로2539번길 8  \n",
      "1  1997   경강로2539번길 8  \n",
      "2  2005  경강로2539번길 22  \n",
      "3  2005  경강로2539번길 22  \n",
      "4  2005  경강로2539번길 22  \n",
      "                 지역      번지   본번  부번         아파트     면적    계약년월  계약일     가격  \\\n",
      "42753  충청북도 충주시 호암동   547-6  547   6        호반현대  59.76  201910   29   7000   \n",
      "42754  충청북도 충주시 호암동  221-23  221  23  호암리버빌(1단지)  84.68  201910    5  12000   \n",
      "42755  충청북도 충주시 호암동  221-23  221  23  호암리버빌(1단지)  84.68  201910   15  11000   \n",
      "42756  충청북도 충주시 호암동  221-23  221  23  호암리버빌(1단지)  84.68  201910   17  12000   \n",
      "42757  충청북도 충주시 호암동  221-23  221  23  호암리버빌(1단지)  84.68  201910   26  11200   \n",
      "\n",
      "        층  건축년도       도로명  \n",
      "42753   3  1994   신촌2길 28  \n",
      "42754  15  2002  원호암5길 32  \n",
      "42755   7  2002  원호암5길 32  \n",
      "42756  14  2002  원호암5길 32  \n",
      "42757  11  2002  원호암5길 32  \n"
     ]
    }
   ],
   "source": [
    "# head() : 상단 부분만 선택해서 출력\n",
    "print(df.head())\n",
    "\n",
    "# tail() : 하단 부분만 선택해서 출력\n",
    "print(df.tail())"
   ]
  },
  {
   "cell_type": "code",
   "execution_count": 18,
   "metadata": {},
   "outputs": [
    {
     "name": "stdout",
     "output_type": "stream",
     "text": [
      "0         강원도 강릉시 견소동\n",
      "1         강원도 강릉시 견소동\n",
      "2         강원도 강릉시 견소동\n",
      "3         강원도 강릉시 견소동\n",
      "4         강원도 강릉시 견소동\n",
      "             ...     \n",
      "42753    충청북도 충주시 호암동\n",
      "42754    충청북도 충주시 호암동\n",
      "42755    충청북도 충주시 호암동\n",
      "42756    충청북도 충주시 호암동\n",
      "42757    충청북도 충주시 호암동\n",
      "Name: 지역, Length: 42758, dtype: object\n",
      "0         강원도 강릉시 견소동\n",
      "1         강원도 강릉시 견소동\n",
      "2         강원도 강릉시 견소동\n",
      "3         강원도 강릉시 견소동\n",
      "4         강원도 강릉시 견소동\n",
      "             ...     \n",
      "42753    충청북도 충주시 호암동\n",
      "42754    충청북도 충주시 호암동\n",
      "42755    충청북도 충주시 호암동\n",
      "42756    충청북도 충주시 호암동\n",
      "42757    충청북도 충주시 호암동\n",
      "Name: 지역, Length: 42758, dtype: object\n"
     ]
    }
   ],
   "source": [
    "print(df.지역)\n",
    "print(df['지역'])"
   ]
  },
  {
   "cell_type": "code",
   "execution_count": 19,
   "metadata": {},
   "outputs": [
    {
     "name": "stdout",
     "output_type": "stream",
     "text": [
      "0        True\n",
      "1        True\n",
      "2        True\n",
      "3        True\n",
      "4        True\n",
      "         ... \n",
      "42753    True\n",
      "42754    True\n",
      "42755    True\n",
      "42756    True\n",
      "42757    True\n",
      "Name: 면적, Length: 42758, dtype: bool\n",
      "                 지역       번지    본번  부번          아파트        면적    계약년월  계약일  \\\n",
      "6        강원도 강릉시 교동     1982  1982   0  강릉교동롯데캐슬1단지  135.1727  201910   21   \n",
      "39      강원도 강릉시 남문동    183-2   183   2       삼익그린맨션  164.7540  201910   15   \n",
      "334     강원도 속초시 금호동      629   629   0     보람레이크더하임  156.7600  201910   16   \n",
      "433     강원도 원주시 개운동  01월 28일    28   1      원주힐스테이트  133.9912  201910    5   \n",
      "434     강원도 원주시 개운동  01월 28일    28   1      원주힐스테이트  137.4292  201910   31   \n",
      "...             ...      ...   ...  ..          ...       ...     ...  ...   \n",
      "42595  충청북도 충주시 문화동     2260  2260   0           럭키  156.7900  201910   21   \n",
      "42607  충청북도 충주시 안림동     1166  1166   0         엘리시아  136.1287  201910   19   \n",
      "42663  충청북도 충주시 연수동     1627  1627   0      연수힐스테이트  143.2109  201910   14   \n",
      "42736  충청북도 충주시 칠금동      626   626   0           삼일  143.5800  201910   20   \n",
      "42737  충청북도 충주시 칠금동      626   626   0           삼일  143.5800  201910   21   \n",
      "\n",
      "          가격   층  건축년도           도로명  \n",
      "6      34300   9  2009   화부산로99번길 12  \n",
      "39     21000  12  1992      홍제로 7-17  \n",
      "334    29500   1  2008  영랑호반길 115-13  \n",
      "433    26000  16  2006        행구로 54  \n",
      "434    24000  14  2006        행구로 54  \n",
      "...      ...  ..   ...           ...  \n",
      "42595  15000   3  1993     중원대로 3379  \n",
      "42607  18500  12  2007      국원초1길 48  \n",
      "42663  31500  13  2007      연수동산로 26  \n",
      "42736  18500  12  1996        금릉로 17  \n",
      "42737  16200   3  1996        금릉로 17  \n",
      "\n",
      "[1567 rows x 12 columns]\n"
     ]
    }
   ],
   "source": [
    "#조건 별로 출력하기\n",
    "\n",
    "# 조건 확인(T/F)\n",
    "print(df.면적 > 50)\n",
    "\n",
    "# 조건에 맞는 정보 추출\n",
    "print(df[df.면적>130])"
   ]
  },
  {
   "cell_type": "code",
   "execution_count": 20,
   "metadata": {},
   "outputs": [
    {
     "name": "stdout",
     "output_type": "stream",
     "text": [
      "[0        False\n",
      "1        False\n",
      "2        False\n",
      "3        False\n",
      "4        False\n",
      "         ...  \n",
      "42753    False\n",
      "42754    False\n",
      "42755    False\n",
      "42756    False\n",
      "42757    False\n",
      "Length: 42758, dtype: bool]\n",
      "[0         True\n",
      "1        False\n",
      "2        False\n",
      "3        False\n",
      "4        False\n",
      "         ...  \n",
      "42753     True\n",
      "42754     True\n",
      "42755     True\n",
      "42756     True\n",
      "42757     True\n",
      "Length: 42758, dtype: bool]\n"
     ]
    }
   ],
   "source": [
    "#여러개의 조건\n",
    "\n",
    "# AND : &\n",
    "print([(df.면적>130) & (df.가격 <=15000)])\n",
    "\n",
    "# OR : |\n",
    "print([(df.면적>130) | (df.가격 <=15000)]) "
   ]
  },
  {
   "cell_type": "code",
   "execution_count": 21,
   "metadata": {},
   "outputs": [
    {
     "name": "stdout",
     "output_type": "stream",
     "text": [
      "                아파트     가격\n",
      "0              송정한신  10900\n",
      "1              송정한신  18500\n",
      "2      송정해변신도브래뉴아파트  25000\n",
      "3      송정해변신도브래뉴아파트  20600\n",
      "4      송정해변신도브래뉴아파트  20500\n",
      "5   강릉 교동 풍림아이원 아파트  29200\n",
      "6       강릉교동롯데캐슬1단지  34300\n",
      "7       강릉교동롯데캐슬2단지  32500\n",
      "8             교동1주공  16200\n",
      "9             교동1주공  21550\n",
      "10            교동1주공  21800\n"
     ]
    },
    {
     "name": "stderr",
     "output_type": "stream",
     "text": [
      "C:\\Users\\조민근\\AppData\\Local\\Temp\\ipykernel_13876\\3078979915.py:4: UserWarning: Boolean Series key will be reindexed to match DataFrame index.\n",
      "  print(df.loc[:10,['아파트','가격']][(df.면적>130)]&[(df.가격<15000)])\n"
     ]
    },
    {
     "ename": "ValueError",
     "evalue": "Unable to coerce list of <class 'pandas.core.series.Series'> to Series/DataFrame",
     "output_type": "error",
     "traceback": [
      "\u001b[1;31m---------------------------------------------------------------------------\u001b[0m",
      "\u001b[1;31mValueError\u001b[0m                                Traceback (most recent call last)",
      "Cell \u001b[1;32mIn[21], line 4\u001b[0m\n\u001b[0;32m      1\u001b[0m \u001b[39m#df.loc [원하는 행의 조건, 원하는 열의 조건]\u001b[39;00m\n\u001b[0;32m      2\u001b[0m \u001b[39mprint\u001b[39m(df\u001b[39m.\u001b[39mloc[:\u001b[39m10\u001b[39m,[\u001b[39m'\u001b[39m\u001b[39m아파트\u001b[39m\u001b[39m'\u001b[39m,\u001b[39m'\u001b[39m\u001b[39m가격\u001b[39m\u001b[39m'\u001b[39m]])\n\u001b[1;32m----> 4\u001b[0m \u001b[39mprint\u001b[39m(df\u001b[39m.\u001b[39;49mloc[:\u001b[39m10\u001b[39;49m,[\u001b[39m'\u001b[39;49m\u001b[39m아파트\u001b[39;49m\u001b[39m'\u001b[39;49m,\u001b[39m'\u001b[39;49m\u001b[39m가격\u001b[39;49m\u001b[39m'\u001b[39;49m]][(df\u001b[39m.\u001b[39;49m면적\u001b[39m>\u001b[39;49m\u001b[39m130\u001b[39;49m)]\u001b[39m&\u001b[39;49m[(df\u001b[39m.\u001b[39;49m가격\u001b[39m<\u001b[39;49m\u001b[39m15000\u001b[39;49m)])\n",
      "File \u001b[1;32m~\\AppData\\Local\\Packages\\PythonSoftwareFoundation.Python.3.9_qbz5n2kfra8p0\\LocalCache\\local-packages\\Python39\\site-packages\\pandas\\core\\ops\\common.py:72\u001b[0m, in \u001b[0;36m_unpack_zerodim_and_defer.<locals>.new_method\u001b[1;34m(self, other)\u001b[0m\n\u001b[0;32m     68\u001b[0m             \u001b[39mreturn\u001b[39;00m \u001b[39mNotImplemented\u001b[39m\n\u001b[0;32m     70\u001b[0m other \u001b[39m=\u001b[39m item_from_zerodim(other)\n\u001b[1;32m---> 72\u001b[0m \u001b[39mreturn\u001b[39;00m method(\u001b[39mself\u001b[39;49m, other)\n",
      "File \u001b[1;32m~\\AppData\\Local\\Packages\\PythonSoftwareFoundation.Python.3.9_qbz5n2kfra8p0\\LocalCache\\local-packages\\Python39\\site-packages\\pandas\\core\\arraylike.py:72\u001b[0m, in \u001b[0;36mOpsMixin.__and__\u001b[1;34m(self, other)\u001b[0m\n\u001b[0;32m     70\u001b[0m \u001b[39m@unpack_zerodim_and_defer\u001b[39m(\u001b[39m\"\u001b[39m\u001b[39m__and__\u001b[39m\u001b[39m\"\u001b[39m)\n\u001b[0;32m     71\u001b[0m \u001b[39mdef\u001b[39;00m \u001b[39m__and__\u001b[39m(\u001b[39mself\u001b[39m, other):\n\u001b[1;32m---> 72\u001b[0m     \u001b[39mreturn\u001b[39;00m \u001b[39mself\u001b[39;49m\u001b[39m.\u001b[39;49m_logical_method(other, operator\u001b[39m.\u001b[39;49mand_)\n",
      "File \u001b[1;32m~\\AppData\\Local\\Packages\\PythonSoftwareFoundation.Python.3.9_qbz5n2kfra8p0\\LocalCache\\local-packages\\Python39\\site-packages\\pandas\\core\\frame.py:7589\u001b[0m, in \u001b[0;36mDataFrame._arith_method\u001b[1;34m(self, other, op)\u001b[0m\n\u001b[0;32m   7586\u001b[0m axis \u001b[39m=\u001b[39m \u001b[39m1\u001b[39m  \u001b[39m# only relevant for Series other case\u001b[39;00m\n\u001b[0;32m   7587\u001b[0m other \u001b[39m=\u001b[39m ops\u001b[39m.\u001b[39mmaybe_prepare_scalar_for_op(other, (\u001b[39mself\u001b[39m\u001b[39m.\u001b[39mshape[axis],))\n\u001b[1;32m-> 7589\u001b[0m \u001b[39mself\u001b[39m, other \u001b[39m=\u001b[39m ops\u001b[39m.\u001b[39;49malign_method_FRAME(\u001b[39mself\u001b[39;49m, other, axis, flex\u001b[39m=\u001b[39;49m\u001b[39mTrue\u001b[39;49;00m, level\u001b[39m=\u001b[39;49m\u001b[39mNone\u001b[39;49;00m)\n\u001b[0;32m   7591\u001b[0m new_data \u001b[39m=\u001b[39m \u001b[39mself\u001b[39m\u001b[39m.\u001b[39m_dispatch_frame_op(other, op, axis\u001b[39m=\u001b[39maxis)\n\u001b[0;32m   7592\u001b[0m \u001b[39mreturn\u001b[39;00m \u001b[39mself\u001b[39m\u001b[39m.\u001b[39m_construct_result(new_data)\n",
      "File \u001b[1;32m~\\AppData\\Local\\Packages\\PythonSoftwareFoundation.Python.3.9_qbz5n2kfra8p0\\LocalCache\\local-packages\\Python39\\site-packages\\pandas\\core\\ops\\__init__.py:278\u001b[0m, in \u001b[0;36malign_method_FRAME\u001b[1;34m(left, right, axis, flex, level)\u001b[0m\n\u001b[0;32m    275\u001b[0m \u001b[39melif\u001b[39;00m is_list_like(right) \u001b[39mand\u001b[39;00m \u001b[39mnot\u001b[39;00m \u001b[39misinstance\u001b[39m(right, (ABCSeries, ABCDataFrame)):\n\u001b[0;32m    276\u001b[0m     \u001b[39m# GH 36702. Raise when attempting arithmetic with list of array-like.\u001b[39;00m\n\u001b[0;32m    277\u001b[0m     \u001b[39mif\u001b[39;00m \u001b[39many\u001b[39m(is_array_like(el) \u001b[39mfor\u001b[39;00m el \u001b[39min\u001b[39;00m right):\n\u001b[1;32m--> 278\u001b[0m         \u001b[39mraise\u001b[39;00m \u001b[39mValueError\u001b[39;00m(\n\u001b[0;32m    279\u001b[0m             \u001b[39mf\u001b[39m\u001b[39m\"\u001b[39m\u001b[39mUnable to coerce list of \u001b[39m\u001b[39m{\u001b[39;00m\u001b[39mtype\u001b[39m(right[\u001b[39m0\u001b[39m])\u001b[39m}\u001b[39;00m\u001b[39m to Series/DataFrame\u001b[39m\u001b[39m\"\u001b[39m\n\u001b[0;32m    280\u001b[0m         )\n\u001b[0;32m    281\u001b[0m     \u001b[39m# GH17901\u001b[39;00m\n\u001b[0;32m    282\u001b[0m     right \u001b[39m=\u001b[39m to_series(right)\n",
      "\u001b[1;31mValueError\u001b[0m: Unable to coerce list of <class 'pandas.core.series.Series'> to Series/DataFrame"
     ]
    }
   ],
   "source": [
    "#df.loc [원하는 행의 조건, 원하는 열의 조건]\n",
    "print(df.loc[:10,['아파트','가격']])\n",
    "\n",
    "print(df.loc[:10,['아파트','가격']][(df.면적>130)]&[(df.가격<15000)])\n"
   ]
  },
  {
   "cell_type": "code",
   "execution_count": 23,
   "metadata": {},
   "outputs": [
    {
     "name": "stdout",
     "output_type": "stream",
     "text": [
      "              아파트     가격\n",
      "0            송정한신  10900\n",
      "35            서일2   4600\n",
      "36             한신  13200\n",
      "37             현대  14700\n",
      "40          내곡동현대  14500\n",
      "...           ...    ...\n",
      "42753        호반현대   7000\n",
      "42754  호암리버빌(1단지)  12000\n",
      "42755  호암리버빌(1단지)  11000\n",
      "42756  호암리버빌(1단지)  12000\n",
      "42757  호암리버빌(1단지)  11200\n",
      "\n",
      "[9942 rows x 2 columns]\n"
     ]
    }
   ],
   "source": [
    "# 가격이 40000을 초과하는 아파트, 가격을 출력하세요\n",
    "print(df.loc[: ,['아파트','가격']][df.가격<15000])\n"
   ]
  },
  {
   "cell_type": "code",
   "execution_count": 24,
   "metadata": {},
   "outputs": [
    {
     "name": "stdout",
     "output_type": "stream",
     "text": [
      "   sex  income  English  jobSatisfaction  stress\n",
      "0    m    3000      500                5       5\n",
      "1    f    4000      600                4       4\n",
      "2    f    5000      700                3       2\n",
      "3    m    6000      800                2       2\n",
      "4    m    4000      700                2       5\n",
      "5    m    3000      600                1       5\n",
      "6    m    3000      500                3       1\n",
      "7    m    5000      500                3       2\n",
      "8    f    4999      600                4       3\n",
      "9    f    5000      700                5       4\n",
      "10   m    3000      500                5       5\n",
      "11   m    4000      600                4       4\n",
      "12   m    5000      700                3       2\n",
      "13   m    6000      800                2       5\n",
      "14   f    4000      700                2       4\n",
      "15   f    3000      600                1       2\n",
      "16   m    3000      500                3       2\n",
      "17   m    5000      500                3       5\n",
      "18   m    4999      600                4       5\n",
      "19   m    5000      500                3       1\n",
      "20   f    4999      600                4       2\n",
      "21   f    5000      700                5       3\n",
      "22   f    3000      500                5       4\n"
     ]
    }
   ],
   "source": [
    "#통계 함수\n",
    "df2  = pd.read_csv('survey.csv')\n",
    "print(df2)"
   ]
  },
  {
   "cell_type": "code",
   "execution_count": 5,
   "metadata": {},
   "outputs": [
    {
     "name": "stdout",
     "output_type": "stream",
     "text": [
      "income             4304.217391\n",
      "English             608.695652\n",
      "jobSatisfaction       3.304348\n",
      "stress                3.347826\n",
      "dtype: float64\n"
     ]
    },
    {
     "name": "stderr",
     "output_type": "stream",
     "text": [
      "C:\\Users\\조민근\\AppData\\Local\\Temp\\ipykernel_18176\\922362703.py:2: FutureWarning: The default value of numeric_only in DataFrame.mean is deprecated. In a future version, it will default to False. In addition, specifying 'numeric_only=None' is deprecated. Select only valid columns or specify the value of numeric_only to silence this warning.\n",
      "  print(df2.mean())\n"
     ]
    }
   ],
   "source": [
    "# 평균\n",
    "print(df2.mean())"
   ]
  },
  {
   "cell_type": "code",
   "execution_count": 7,
   "metadata": {},
   "outputs": [
    {
     "name": "stdout",
     "output_type": "stream",
     "text": [
      "income             4999.0\n",
      "English             600.0\n",
      "jobSatisfaction       3.0\n",
      "stress                4.0\n",
      "dtype: float64\n",
      "4999.0\n"
     ]
    },
    {
     "name": "stderr",
     "output_type": "stream",
     "text": [
      "C:\\Users\\조민근\\AppData\\Local\\Temp\\ipykernel_18176\\2771307715.py:2: FutureWarning: The default value of numeric_only in DataFrame.median is deprecated. In a future version, it will default to False. In addition, specifying 'numeric_only=None' is deprecated. Select only valid columns or specify the value of numeric_only to silence this warning.\n",
      "  print(df2.median())\n"
     ]
    }
   ],
   "source": [
    "# 중앙값\n",
    "print(df2.median())\n",
    "print(df2.income.median())"
   ]
  },
  {
   "cell_type": "code",
   "execution_count": 9,
   "metadata": {},
   "outputs": [
    {
     "name": "stdout",
     "output_type": "stream",
     "text": [
      "            income     English  jobSatisfaction     stress\n",
      "count    23.000000   23.000000        23.000000  23.000000\n",
      "mean   4304.217391  608.695652         3.304348   3.347826\n",
      "std    1019.478341   99.603959         1.258960   1.433644\n",
      "min    3000.000000  500.000000         1.000000   1.000000\n",
      "25%    3000.000000  500.000000         2.500000   2.000000\n",
      "50%    4999.000000  600.000000         3.000000   4.000000\n",
      "75%    5000.000000  700.000000         4.000000   5.000000\n",
      "max    6000.000000  800.000000         5.000000   5.000000\n"
     ]
    }
   ],
   "source": [
    "# 요약하는 함수 : 기초 통계량만 계산됨.\n",
    "print(df2.describe())"
   ]
  },
  {
   "cell_type": "code",
   "execution_count": 11,
   "metadata": {},
   "outputs": [
    {
     "name": "stdout",
     "output_type": "stream",
     "text": [
      "m    14\n",
      "f     9\n",
      "Name: sex, dtype: int64\n"
     ]
    }
   ],
   "source": [
    "# 빈도 분석하기 [df.변수.value_counts()] : 변수에 대한 빈도를 나타냄\n",
    "print(df2.sex.value_counts())"
   ]
  },
  {
   "cell_type": "code",
   "execution_count": 14,
   "metadata": {},
   "outputs": [
    {
     "name": "stdout",
     "output_type": "stream",
     "text": [
      "          income     English  jobSatisfaction    stress\n",
      "sex                                                    \n",
      "f    4333.111111  633.333333         3.666667  3.111111\n",
      "m    4285.642857  592.857143         3.071429  3.500000\n"
     ]
    }
   ],
   "source": [
    "# 두 집단 평균 구하기 [groupby()]\n",
    "print(df2.groupby(df2.sex).mean())"
   ]
  },
  {
   "attachments": {},
   "cell_type": "markdown",
   "metadata": {},
   "source": [
    "## 3) matplot module"
   ]
  },
  {
   "cell_type": "code",
   "execution_count": 19,
   "metadata": {},
   "outputs": [
    {
     "name": "stdout",
     "output_type": "stream",
     "text": [
      "^C\n"
     ]
    }
   ],
   "source": []
  },
  {
   "cell_type": "code",
   "execution_count": 21,
   "metadata": {},
   "outputs": [],
   "source": [
    "import matplotlib.pyplot as plt"
   ]
  },
  {
   "cell_type": "code",
   "execution_count": 29,
   "metadata": {},
   "outputs": [],
   "source": [
    "x = [1,4,9,16,25,36,49,64]\n"
   ]
  },
  {
   "cell_type": "code",
   "execution_count": 30,
   "metadata": {},
   "outputs": [
    {
     "data": {
      "text/plain": [
       "[<matplotlib.lines.Line2D at 0x138a9d3f070>]"
      ]
     },
     "execution_count": 30,
     "metadata": {},
     "output_type": "execute_result"
    },
    {
     "data": {
      "image/png": "[encoded data removed]",
      "text/plain": [
       "<Figure size 640x480 with 1 Axes>"
      ]
     },
     "metadata": {},
     "output_type": "display_data"
    }
   ],
   "source": [
    "# 그래프 생성\n",
    "plt.plot(x)"
   ]
  },
  {
   "cell_type": "code",
   "execution_count": 28,
   "metadata": {},
   "outputs": [],
   "source": [
    "# 그래프 출력\n",
    "plt.show(x)"
   ]
  },
  {
   "cell_type": "code",
   "execution_count": 35,
   "metadata": {},
   "outputs": [
    {
     "name": "stderr",
     "output_type": "stream",
     "text": [
      "C:\\Users\\조민근\\AppData\\Local\\Temp\\ipykernel_18176\\1831109589.py:2: UserWarning: color is redundantly defined by the 'color' keyword argument and the fmt string \"or\" (-> color='r'). The keyword argument will take precedence.\n",
      "  plt.plot(x,'or',color = 'r', )\n"
     ]
    },
    {
     "data": {
      "text/plain": [
       "[<matplotlib.lines.Line2D at 0x138aa07d610>]"
      ]
     },
     "execution_count": 35,
     "metadata": {},
     "output_type": "execute_result"
    },
    {
     "data": {
      "image/png": "[encoded data removed]",
      "text/plain": [
       "<Figure size 640x480 with 1 Axes>"
      ]
     },
     "metadata": {},
     "output_type": "display_data"
    }
   ],
   "source": [
    "#그래프 모양과 색 지정하기\n",
    "# or : 점 형태로\n",
    "plt.plot(x,'or',color = 'r', )"
   ]
  },
  {
   "cell_type": "code",
   "execution_count": 36,
   "metadata": {},
   "outputs": [
    {
     "name": "stdout",
     "output_type": "stream",
     "text": [
      "[1, 2, 3, 4, 5, 6, 7, 8]\n"
     ]
    }
   ],
   "source": [
    "# 축이름 설정\n",
    "y  = [i for i in range(1,9)]\n",
    "print(y)"
   ]
  },
  {
   "cell_type": "code",
   "execution_count": 39,
   "metadata": {},
   "outputs": [
    {
     "data": {
      "text/plain": [
       "Text(0.5, 1.0, 'sample')"
      ]
     },
     "execution_count": 39,
     "metadata": {},
     "output_type": "execute_result"
    },
    {
     "data": {
      "image/png": "[encoded data removed]",
      "text/plain": [
       "<Figure size 640x480 with 1 Axes>"
      ]
     },
     "metadata": {},
     "output_type": "display_data"
    }
   ],
   "source": [
    "plt.plot(x,y)\n",
    "plt.xlabel('x')\n",
    "plt.ylabel('y')\n",
    "plt.title('sample')"
   ]
  }
 ],
 "metadata": {
  "kernelspec": {
   "display_name": "Python 3",
   "language": "python",
   "name": "python3"
  },
  "language_info": {
   "codemirror_mode": {
    "name": "ipython",
    "version": 3
   },
   "file_extension": ".py",
   "mimetype": "text/x-python",
   "name": "python",
   "nbconvert_exporter": "python",
   "pygments_lexer": "ipython3",
   "version": "3.9.13"
  },
  "orig_nbformat": 4,
  "vscode": {
   "interpreter": {
    "hash": "690a89ac2bc253cacc659a27e48f907909a6a06f2adb5e7b0fe392c4ba7cefd6"
   }
  }
 },
 "nbformat": 4,
 "nbformat_minor": 2
}
