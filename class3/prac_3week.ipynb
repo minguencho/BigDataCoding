{
 "cells": [
  {
   "attachments": {},
   "cell_type": "markdown",
   "metadata": {},
   "source": [
    "# 빅데이터 코딩 3주차"
   ]
  },
  {
   "attachments": {},
   "cell_type": "markdown",
   "metadata": {},
   "source": [
    "## 1) numpy module (배열, 수치계산)"
   ]
  },
  {
   "cell_type": "code",
   "execution_count": 3,
   "metadata": {},
   "outputs": [],
   "source": [
    "import numpy as np\n",
    "\n",
    "#numpy 모듈은 다차원 배열을 다루는 함수임"
   ]
  },
  {
   "cell_type": "code",
   "execution_count": 5,
   "metadata": {},
   "outputs": [
    {
     "name": "stdout",
     "output_type": "stream",
     "text": [
      "[1 2 3 4 5] <class 'numpy.ndarray'>\n"
     ]
    }
   ],
   "source": [
    "# 1차원 배열 -> list가 아닌 numpy.ndarray 타입임\n",
    "# so , list 타입을 사용하려면 형변환이 필요함\n",
    "\n",
    "a = np.array([1,2,3,4,5])\n",
    "print(a,type(a))\n"
   ]
  },
  {
   "cell_type": "code",
   "execution_count": 11,
   "metadata": {},
   "outputs": [
    {
     "name": "stdout",
     "output_type": "stream",
     "text": [
      "[[1 3 5]\n",
      " [2 4 6]]\n"
     ]
    }
   ],
   "source": [
    "# 2차원 배열\n",
    "b = np.array([[1,3,5],[2,4,6]])\n",
    "print(b)"
   ]
  },
  {
   "cell_type": "code",
   "execution_count": 14,
   "metadata": {},
   "outputs": [
    {
     "name": "stdout",
     "output_type": "stream",
     "text": [
      "[[[1 3]\n",
      "  [2 4]]\n",
      "\n",
      " [[5 6]\n",
      "  [4 1]]]\n"
     ]
    }
   ],
   "source": [
    "# 3차원 배열\n",
    "c = np.array([[[1,3],[2,4]],[[5,6],[4,1]]])\n",
    "print(c)"
   ]
  },
  {
   "cell_type": "code",
   "execution_count": 23,
   "metadata": {},
   "outputs": [
    {
     "name": "stdout",
     "output_type": "stream",
     "text": [
      "[6 7]\n",
      "8\n",
      "8\n"
     ]
    }
   ],
   "source": [
    "# 3X5 3열 5행\n",
    "#np array\n",
    "d = np.array([[1,2,3,4,5],\\\n",
    "            [2,4,6,7,8],\\\n",
    "            [5,6,7,8,9]])\n",
    "\n",
    "#list\n",
    "list_ = [[1,2,3,4,5],\\\n",
    "        [2,4,6,7,8],\\\n",
    "        [5,6,7,8,9]]\n",
    "\n",
    "print(d[2][1:3])\n",
    "\n",
    "print(d[2,3])\n",
    "\n",
    "print(list_[2][3])"
   ]
  },
  {
   "cell_type": "code",
   "execution_count": 24,
   "metadata": {},
   "outputs": [
    {
     "name": "stdout",
     "output_type": "stream",
     "text": [
      "(3, 5)\n"
     ]
    }
   ],
   "source": [
    "# shape : 배열의 크기\n",
    "# np.shape()\n",
    "print(d.shape)\n",
    "# (n행, m열)"
   ]
  },
  {
   "cell_type": "code",
   "execution_count": 31,
   "metadata": {},
   "outputs": [
    {
     "name": "stdout",
     "output_type": "stream",
     "text": [
      "['1' '3.2' 'string']\n",
      "[3.2 4.2]\n",
      "<U5\n",
      "<U32\n",
      "float64\n"
     ]
    }
   ],
   "source": [
    "# dtype() : 배열 원소 자료형 확인\n",
    "# int (32/64) bit\n",
    "# float (32/64)\n",
    "# bool\n",
    "# string\n",
    "\n",
    "# 서로 다른 형태가 들어가있는 배열\n",
    "e = np.array([1,3.2,'string'])\n",
    "print(e)\n",
    "\n",
    "# 같은 타입\n",
    "e1 = np.array([3.2,4.2])\n",
    "print(e1)\n",
    "\n",
    "e2 = np.array(['one','two','three'])\n",
    "\n",
    "# U5 : 유니코드 5\n",
    "print(e2.dtype)\n",
    "\n",
    "# U32 : 유니코드 32\n",
    "print(e.dtype)\n",
    "\n",
    "print(e1.dtype)"
   ]
  },
  {
   "cell_type": "code",
   "execution_count": 36,
   "metadata": {},
   "outputs": [
    {
     "name": "stdout",
     "output_type": "stream",
     "text": [
      "int32\n",
      "[1 2]\n",
      "float64\n",
      "[1. 2.]\n"
     ]
    }
   ],
   "source": [
    "# 배열 유형 바꾸기\n",
    "# astype() : 임시 형 변환\n",
    "\n",
    "g = np.array([1,2])\n",
    "print(g.dtype)\n",
    "print(g)\n",
    "\n",
    "k = g.astype('float64')\n",
    "print(k.dtype)\n",
    "print(k)"
   ]
  },
  {
   "cell_type": "code",
   "execution_count": 37,
   "metadata": {},
   "outputs": [
    {
     "name": "stdout",
     "output_type": "stream",
     "text": [
      "[[0. 0. 0.]\n",
      " [0. 0. 0.]]\n"
     ]
    }
   ],
   "source": [
    "# numpy의 배열 만드는 함수\n",
    "# zeros(n행,m열) : 0으로 이루어진 배열\n",
    "\n",
    "a = np.zeros((2,3))\n",
    "print(a)"
   ]
  },
  {
   "cell_type": "code",
   "execution_count": 39,
   "metadata": {},
   "outputs": [
    {
     "name": "stdout",
     "output_type": "stream",
     "text": [
      "[[1. 1. 1.]\n",
      " [1. 1. 1.]]\n"
     ]
    }
   ],
   "source": [
    "# ones() : 1로 이루어진 배열\n",
    "\n",
    "b = np.ones([2,3])\n",
    "print(b)"
   ]
  },
  {
   "cell_type": "code",
   "execution_count": 41,
   "metadata": {},
   "outputs": [
    {
     "name": "stdout",
     "output_type": "stream",
     "text": [
      "[2 3 4 5 6 7 8 9]\n"
     ]
    }
   ],
   "source": [
    "# arange(2,10)\n",
    "# 2-9까지 이루어진 배열\n",
    "\n",
    "c = np.arange(2,10)\n",
    "print(c)"
   ]
  },
  {
   "cell_type": "code",
   "execution_count": 48,
   "metadata": {},
   "outputs": [
    {
     "name": "stdout",
     "output_type": "stream",
     "text": [
      "[[1 2 3]\n",
      " [4 5 6]]\n",
      "[[1 4]\n",
      " [2 5]\n",
      " [3 6]]\n"
     ]
    }
   ],
   "source": [
    "# transpose() \n",
    "# 행 열 전환\n",
    "d = np.array([[1,2,3],[4,5,6]])\n",
    "print(d)\n",
    "print(np.transpose(d))"
   ]
  },
  {
   "cell_type": "code",
   "execution_count": 57,
   "metadata": {},
   "outputs": [
    {
     "name": "stdout",
     "output_type": "stream",
     "text": [
      "[[12 14 16]\n",
      " [18 20 22]]\n",
      "[[-10 -10 -10]\n",
      " [-10 -10 -10]]\n",
      "[[11 24 39]\n",
      " [56 75 96]]\n",
      "[[101 202 303]\n",
      " [104 205 306]]\n"
     ]
    }
   ],
   "source": [
    "# array 연산\n",
    "arr1 = np.array([[1,2,3]\\\n",
    "                ,[4,5,6]])\n",
    "arr2 = np.array([[11,12,13]\\\n",
    "                ,[14,15,16]])\n",
    "\n",
    "# +/- 는 일반적인\n",
    "print(arr1+arr2)\n",
    "print(arr1-arr2)\n",
    "\n",
    "# 일반적인 곱셈이 아니라 행렬의 곱임.\n",
    "print(arr1*arr2)\n",
    "\n",
    "#서로 다른 크기의 행렬 더하기\n",
    "arr3 = np.array([100,200,300])\n",
    "print(arr1+arr3)\n"
   ]
  },
  {
   "cell_type": "code",
   "execution_count": 65,
   "metadata": {},
   "outputs": [
    {
     "name": "stdout",
     "output_type": "stream",
     "text": [
      "7\n",
      "1\n",
      "[[ 1  2  3  4  5]\n",
      " [ 6  7  8  9 10]\n",
      " [ 5  7  9 10  2]]\n",
      "[[ 1  1  1  1  1]\n",
      " [ 1  1  1  1  1]\n",
      " [ 5  7  9 10  2]]\n"
     ]
    }
   ],
   "source": [
    "# slice\n",
    "a_list = [[1,2,3,4,5],[6,7,8,9,10],[5,7,9,10,2]]\n",
    "a = np.array([[1,2,3,4,5],[6,7,8,9,10],[5,7,9,10,2]])\n",
    "print(a_list[2][1])\n",
    "\n",
    "a_list[2][1] = 1\n",
    "\n",
    "print(a_list[2][1])\n",
    "\n",
    "print(a)\n",
    "a[:2] = 1\n",
    "print(a)"
   ]
  },
  {
   "attachments": {},
   "cell_type": "markdown",
   "metadata": {},
   "source": [
    "## 2) pandas module (통계 분석)"
   ]
  },
  {
   "cell_type": "code",
   "execution_count": 5,
   "metadata": {},
   "outputs": [
    {
     "name": "stdout",
     "output_type": "stream",
     "text": [
      "Package            Version\n",
      "------------------ -----------\n",
      "astroid            2.5.1\n",
      "asttokens          2.2.1\n",
      "backcall           0.2.0\n",
      "beautifulsoup4     4.11.1\n",
      "bs4                0.0.1\n",
      "certifi            2022.9.24\n",
      "charset-normalizer 2.1.1\n",
      "colorama           0.4.4\n",
      "comm               0.1.2\n",
      "debugpy            1.6.4\n",
      "decorator          5.1.1\n",
      "entrypoints        0.4\n",
      "executing          1.2.0\n",
      "idna               3.4\n",
      "ipykernel          6.19.4\n",
      "ipython            8.7.0\n",
      "isort              5.7.0\n",
      "jedi               0.18.2\n",
      "jupyter_client     7.4.8\n",
      "jupyter_core       5.1.1\n",
      "lazy-object-proxy  1.5.2\n",
      "matplotlib-inline  0.1.6\n",
      "mccabe             0.6.1\n",
      "nest-asyncio       1.5.6\n",
      "numpy              1.24.1\n",
      "packaging          22.0\n",
      "pandas             1.5.2\n",
      "parso              0.8.3\n",
      "pickleshare        0.7.5\n",
      "platformdirs       2.6.0\n",
      "prompt-toolkit     3.0.36\n",
      "psutil             5.9.4\n",
      "pure-eval          0.2.2\n",
      "Pygments           2.13.0\n",
      "pylint             2.7.2\n",
      "python-dateutil    2.8.2\n",
      "pytz               2022.7\n",
      "pywin32            305\n",
      "pyzmq              24.0.1\n",
      "requests           2.28.1\n",
      "six                1.16.0\n",
      "soupsieve          2.3.2.post1\n",
      "stack-data         0.6.2\n",
      "toml               0.10.2\n",
      "tornado            6.2\n",
      "traitlets          5.8.0\n",
      "urllib3            1.26.12\n",
      "wcwidth            0.2.5\n",
      "wrapt              1.12.1\n"
     ]
    },
    {
     "name": "stderr",
     "output_type": "stream",
     "text": [
      "WARNING: You are using pip version 22.0.4; however, version 22.3.1 is available.\n",
      "You should consider upgrading via the 'C:\\Users\\조민근\\AppData\\Local\\Microsoft\\WindowsApps\\PythonSoftwareFoundation.Python.3.9_qbz5n2kfra8p0\\python.exe -m pip install --upgrade pip' command.\n"
     ]
    }
   ],
   "source": [
    "!pip list"
   ]
  },
  {
   "cell_type": "code",
   "execution_count": 6,
   "metadata": {},
   "outputs": [],
   "source": [
    "import pandas as pd"
   ]
  },
  {
   "cell_type": "code",
   "execution_count": 7,
   "metadata": {},
   "outputs": [],
   "source": [
    "# 1. 딕셔너리(사전형) 만들기\n",
    "data = {'name ' : {'Mark','Jane','Chris','Ryan'},\\\n",
    "        'age' : {33,32,35,42},\\\n",
    "        'score' : {91.2,83.4,77.5,87.7}}"
   ]
  },
  {
   "cell_type": "code",
   "execution_count": 14,
   "metadata": {},
   "outputs": [
    {
     "ename": "TypeError",
     "evalue": "'set' type is unordered",
     "output_type": "error",
     "traceback": [
      "\u001b[1;31m---------------------------------------------------------------------------\u001b[0m",
      "\u001b[1;31mTypeError\u001b[0m                                 Traceback (most recent call last)",
      "Cell \u001b[1;32mIn[14], line 2\u001b[0m\n\u001b[0;32m      1\u001b[0m \u001b[39m#Dataframe\u001b[39;00m\n\u001b[1;32m----> 2\u001b[0m df \u001b[39m=\u001b[39m pd\u001b[39m.\u001b[39;49mDataFrame(data)\n\u001b[0;32m      3\u001b[0m \u001b[39mprint\u001b[39m(\u001b[39mtype\u001b[39m(df))\n",
      "File \u001b[1;32m~\\AppData\\Local\\Packages\\PythonSoftwareFoundation.Python.3.9_qbz5n2kfra8p0\\LocalCache\\local-packages\\Python39\\site-packages\\pandas\\core\\frame.py:663\u001b[0m, in \u001b[0;36mDataFrame.__init__\u001b[1;34m(self, data, index, columns, dtype, copy)\u001b[0m\n\u001b[0;32m    657\u001b[0m     mgr \u001b[39m=\u001b[39m \u001b[39mself\u001b[39m\u001b[39m.\u001b[39m_init_mgr(\n\u001b[0;32m    658\u001b[0m         data, axes\u001b[39m=\u001b[39m{\u001b[39m\"\u001b[39m\u001b[39mindex\u001b[39m\u001b[39m\"\u001b[39m: index, \u001b[39m\"\u001b[39m\u001b[39mcolumns\u001b[39m\u001b[39m\"\u001b[39m: columns}, dtype\u001b[39m=\u001b[39mdtype, copy\u001b[39m=\u001b[39mcopy\n\u001b[0;32m    659\u001b[0m     )\n\u001b[0;32m    661\u001b[0m \u001b[39melif\u001b[39;00m \u001b[39misinstance\u001b[39m(data, \u001b[39mdict\u001b[39m):\n\u001b[0;32m    662\u001b[0m     \u001b[39m# GH#38939 de facto copy defaults to False only in non-dict cases\u001b[39;00m\n\u001b[1;32m--> 663\u001b[0m     mgr \u001b[39m=\u001b[39m dict_to_mgr(data, index, columns, dtype\u001b[39m=\u001b[39;49mdtype, copy\u001b[39m=\u001b[39;49mcopy, typ\u001b[39m=\u001b[39;49mmanager)\n\u001b[0;32m    664\u001b[0m \u001b[39melif\u001b[39;00m \u001b[39misinstance\u001b[39m(data, ma\u001b[39m.\u001b[39mMaskedArray):\n\u001b[0;32m    665\u001b[0m     \u001b[39mimport\u001b[39;00m \u001b[39mnumpy\u001b[39;00m\u001b[39m.\u001b[39;00m\u001b[39mma\u001b[39;00m\u001b[39m.\u001b[39;00m\u001b[39mmrecords\u001b[39;00m \u001b[39mas\u001b[39;00m \u001b[39mmrecords\u001b[39;00m\n",
      "File \u001b[1;32m~\\AppData\\Local\\Packages\\PythonSoftwareFoundation.Python.3.9_qbz5n2kfra8p0\\LocalCache\\local-packages\\Python39\\site-packages\\pandas\\core\\internals\\construction.py:493\u001b[0m, in \u001b[0;36mdict_to_mgr\u001b[1;34m(data, index, columns, dtype, typ, copy)\u001b[0m\n\u001b[0;32m    489\u001b[0m     \u001b[39melse\u001b[39;00m:\n\u001b[0;32m    490\u001b[0m         \u001b[39m# dtype check to exclude e.g. range objects, scalars\u001b[39;00m\n\u001b[0;32m    491\u001b[0m         arrays \u001b[39m=\u001b[39m [x\u001b[39m.\u001b[39mcopy() \u001b[39mif\u001b[39;00m \u001b[39mhasattr\u001b[39m(x, \u001b[39m\"\u001b[39m\u001b[39mdtype\u001b[39m\u001b[39m\"\u001b[39m) \u001b[39melse\u001b[39;00m x \u001b[39mfor\u001b[39;00m x \u001b[39min\u001b[39;00m arrays]\n\u001b[1;32m--> 493\u001b[0m \u001b[39mreturn\u001b[39;00m arrays_to_mgr(arrays, columns, index, dtype\u001b[39m=\u001b[39;49mdtype, typ\u001b[39m=\u001b[39;49mtyp, consolidate\u001b[39m=\u001b[39;49mcopy)\n",
      "File \u001b[1;32m~\\AppData\\Local\\Packages\\PythonSoftwareFoundation.Python.3.9_qbz5n2kfra8p0\\LocalCache\\local-packages\\Python39\\site-packages\\pandas\\core\\internals\\construction.py:123\u001b[0m, in \u001b[0;36marrays_to_mgr\u001b[1;34m(arrays, columns, index, dtype, verify_integrity, typ, consolidate)\u001b[0m\n\u001b[0;32m    120\u001b[0m         index \u001b[39m=\u001b[39m ensure_index(index)\n\u001b[0;32m    122\u001b[0m     \u001b[39m# don't force copy because getting jammed in an ndarray anyway\u001b[39;00m\n\u001b[1;32m--> 123\u001b[0m     arrays \u001b[39m=\u001b[39m _homogenize(arrays, index, dtype)\n\u001b[0;32m    124\u001b[0m     \u001b[39m# _homogenize ensures\u001b[39;00m\n\u001b[0;32m    125\u001b[0m     \u001b[39m#  - all(len(x) == len(index) for x in arrays)\u001b[39;00m\n\u001b[0;32m    126\u001b[0m     \u001b[39m#  - all(x.ndim == 1 for x in arrays)\u001b[39;00m\n\u001b[1;32m   (...)\u001b[0m\n\u001b[0;32m    129\u001b[0m \n\u001b[0;32m    130\u001b[0m \u001b[39melse\u001b[39;00m:\n\u001b[0;32m    131\u001b[0m     index \u001b[39m=\u001b[39m ensure_index(index)\n",
      "File \u001b[1;32m~\\AppData\\Local\\Packages\\PythonSoftwareFoundation.Python.3.9_qbz5n2kfra8p0\\LocalCache\\local-packages\\Python39\\site-packages\\pandas\\core\\internals\\construction.py:617\u001b[0m, in \u001b[0;36m_homogenize\u001b[1;34m(data, index, dtype)\u001b[0m\n\u001b[0;32m    614\u001b[0m             val \u001b[39m=\u001b[39m \u001b[39mdict\u001b[39m(val)\n\u001b[0;32m    615\u001b[0m         val \u001b[39m=\u001b[39m lib\u001b[39m.\u001b[39mfast_multiget(val, oindex\u001b[39m.\u001b[39m_values, default\u001b[39m=\u001b[39mnp\u001b[39m.\u001b[39mnan)\n\u001b[1;32m--> 617\u001b[0m     val \u001b[39m=\u001b[39m sanitize_array(\n\u001b[0;32m    618\u001b[0m         val, index, dtype\u001b[39m=\u001b[39;49mdtype, copy\u001b[39m=\u001b[39;49m\u001b[39mFalse\u001b[39;49;00m, raise_cast_failure\u001b[39m=\u001b[39;49m\u001b[39mFalse\u001b[39;49;00m\n\u001b[0;32m    619\u001b[0m     )\n\u001b[0;32m    620\u001b[0m     com\u001b[39m.\u001b[39mrequire_length_match(val, index)\n\u001b[0;32m    622\u001b[0m homogenized\u001b[39m.\u001b[39mappend(val)\n",
      "File \u001b[1;32m~\\AppData\\Local\\Packages\\PythonSoftwareFoundation.Python.3.9_qbz5n2kfra8p0\\LocalCache\\local-packages\\Python39\\site-packages\\pandas\\core\\construction.py:611\u001b[0m, in \u001b[0;36msanitize_array\u001b[1;34m(data, index, dtype, copy, raise_cast_failure, allow_2d)\u001b[0m\n\u001b[0;32m    608\u001b[0m \u001b[39melse\u001b[39;00m:\n\u001b[0;32m    609\u001b[0m     \u001b[39mif\u001b[39;00m \u001b[39misinstance\u001b[39m(data, (\u001b[39mset\u001b[39m, \u001b[39mfrozenset\u001b[39m)):\n\u001b[0;32m    610\u001b[0m         \u001b[39m# Raise only for unordered sets, e.g., not for dict_keys\u001b[39;00m\n\u001b[1;32m--> 611\u001b[0m         \u001b[39mraise\u001b[39;00m \u001b[39mTypeError\u001b[39;00m(\u001b[39mf\u001b[39m\u001b[39m\"\u001b[39m\u001b[39m'\u001b[39m\u001b[39m{\u001b[39;00m\u001b[39mtype\u001b[39m(data)\u001b[39m.\u001b[39m\u001b[39m__name__\u001b[39m\u001b[39m}\u001b[39;00m\u001b[39m'\u001b[39m\u001b[39m type is unordered\u001b[39m\u001b[39m\"\u001b[39m)\n\u001b[0;32m    613\u001b[0m     \u001b[39m# materialize e.g. generators, convert e.g. tuples, abc.ValueView\u001b[39;00m\n\u001b[0;32m    614\u001b[0m     \u001b[39mif\u001b[39;00m \u001b[39mhasattr\u001b[39m(data, \u001b[39m\"\u001b[39m\u001b[39m__array__\u001b[39m\u001b[39m\"\u001b[39m):\n\u001b[0;32m    615\u001b[0m         \u001b[39m# e.g. dask array GH#38645\u001b[39;00m\n",
      "\u001b[1;31mTypeError\u001b[0m: 'set' type is unordered"
     ]
    }
   ],
   "source": [
    "#Dataframe\n",
    "df = pd.DataFrame(data)\n",
    "print(type(df))"
   ]
  },
  {
   "cell_type": "code",
   "execution_count": 12,
   "metadata": {},
   "outputs": [
    {
     "ename": "NameError",
     "evalue": "name 'df' is not defined",
     "output_type": "error",
     "traceback": [
      "\u001b[1;31m---------------------------------------------------------------------------\u001b[0m",
      "\u001b[1;31mNameError\u001b[0m                                 Traceback (most recent call last)",
      "Cell \u001b[1;32mIn[12], line 2\u001b[0m\n\u001b[0;32m      1\u001b[0m \u001b[39m# sum() : 합계\u001b[39;00m\n\u001b[1;32m----> 2\u001b[0m \u001b[39mprint\u001b[39m(\u001b[39m'\u001b[39m\u001b[39m합계 - \u001b[39m\u001b[39m\\n\u001b[39;00m\u001b[39m'\u001b[39m, df\u001b[39m.\u001b[39msum())\n",
      "\u001b[1;31mNameError\u001b[0m: name 'df' is not defined"
     ]
    }
   ],
   "source": [
    "# sum() : 합계\n",
    "print('합계 - \\n', df.sum())"
   ]
  },
  {
   "cell_type": "code",
   "execution_count": null,
   "metadata": {},
   "outputs": [],
   "source": [
    "# mean() : 평균\n",
    "print('평균 - \\n', df.mean())"
   ]
  },
  {
   "cell_type": "code",
   "execution_count": null,
   "metadata": {},
   "outputs": [],
   "source": [
    "# 데이터 선택하기\n",
    "print(df.name)\n",
    "print(df['name'])"
   ]
  },
  {
   "cell_type": "code",
   "execution_count": null,
   "metadata": {},
   "outputs": [],
   "source": [
    "# read_csv() csv file을 dataframe으로 바꿔주는 함수\n",
    "df = pd.read_csv('./class3/apt.csv',encoding='cp949')\n",
    "print(df)"
   ]
  },
  {
   "cell_type": "code",
   "execution_count": null,
   "metadata": {},
   "outputs": [],
   "source": [
    "# head() : 상단 부분만 선택해서 출력\n",
    "print(df.head())\n",
    "\n",
    "# tail() : 하단 부분만 선택해서 출력\n",
    "print(df.tail())"
   ]
  },
  {
   "cell_type": "code",
   "execution_count": null,
   "metadata": {},
   "outputs": [],
   "source": [
    "print(df.지역)\n",
    "print(df['지역'])"
   ]
  },
  {
   "cell_type": "code",
   "execution_count": null,
   "metadata": {},
   "outputs": [],
   "source": [
    "#조건 별로 출력하기\n",
    "\n",
    "# 조건 확인(T/F)\n",
    "print(df.면적 > 50)\n",
    "\n",
    "# 조건에 맞는 정보 추출\n",
    "print(df[df.면적>130])"
   ]
  },
  {
   "cell_type": "code",
   "execution_count": null,
   "metadata": {},
   "outputs": [],
   "source": [
    "#여러개의 조건\n",
    "\n",
    "# AND : &\n",
    "print([(df.면적>130) & (df.가격 <=15000)])\n",
    "\n",
    "# OR : |\n",
    "print([(df.면적>130) | (df.가격 <=15000)]) "
   ]
  },
  {
   "cell_type": "code",
   "execution_count": null,
   "metadata": {},
   "outputs": [],
   "source": [
    "#df.loc [원하는 행의 조건, 원하는 열의 조건]\n",
    "print(df.loc[:10,['아파트','가격']])\n",
    "\n",
    "print(df.loc[:10,['아파트','가격']][(df.면적>130)]&[(df.가격<15000)])\n"
   ]
  },
  {
   "cell_type": "code",
   "execution_count": 11,
   "metadata": {},
   "outputs": [
    {
     "ename": "NameError",
     "evalue": "name 'df' is not defined",
     "output_type": "error",
     "traceback": [
      "\u001b[1;31m---------------------------------------------------------------------------\u001b[0m",
      "\u001b[1;31mNameError\u001b[0m                                 Traceback (most recent call last)",
      "Cell \u001b[1;32mIn[11], line 2\u001b[0m\n\u001b[0;32m      1\u001b[0m \u001b[39m# 가격이 40000을 초과하는 아파트, 가격을 출력하세요\u001b[39;00m\n\u001b[1;32m----> 2\u001b[0m \u001b[39mprint\u001b[39m(df\u001b[39m.\u001b[39mloc[:\u001b[39m10\u001b[39m,[\u001b[39m'\u001b[39m\u001b[39m아파트\u001b[39m\u001b[39m'\u001b[39m,\u001b[39m'\u001b[39m\u001b[39m가격\u001b[39m\u001b[39m'\u001b[39m]][df\u001b[39m.\u001b[39m가격\u001b[39m<\u001b[39m\u001b[39m15000\u001b[39m])\n",
      "\u001b[1;31mNameError\u001b[0m: name 'df' is not defined"
     ]
    }
   ],
   "source": [
    "# 가격이 40000을 초과하는 아파트, 가격을 출력하세요\n",
    "print(df.loc[: ,['아파트','가격']][df.가격<15000])\n"
   ]
  }
 ],
 "metadata": {
  "kernelspec": {
   "display_name": "Python 3",
   "language": "python",
   "name": "python3"
  },
  "language_info": {
   "codemirror_mode": {
    "name": "ipython",
    "version": 3
   },
   "file_extension": ".py",
   "mimetype": "text/x-python",
   "name": "python",
   "nbconvert_exporter": "python",
   "pygments_lexer": "ipython3",
   "version": "3.9.13"
  },
  "orig_nbformat": 4,
  "vscode": {
   "interpreter": {
    "hash": "690a89ac2bc253cacc659a27e48f907909a6a06f2adb5e7b0fe392c4ba7cefd6"
   }
  }
 },
 "nbformat": 4,
 "nbformat_minor": 2
}
