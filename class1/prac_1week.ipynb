{
 "cells": [
  {
   "attachments": {},
   "cell_type": "markdown",
   "metadata": {},
   "source": [
    "# 빅데이터 코딩 1주차 "
   ]
  },
  {
   "cell_type": "markdown",
   "metadata": {},
   "source": [
    "## 1-1 ) 자료형"
   ]
  },
  {
   "cell_type": "code",
   "execution_count": 13,
   "metadata": {},
   "outputs": [
    {
     "name": "stdout",
     "output_type": "stream",
     "text": [
      "<class 'int'>\n"
     ]
    }
   ],
   "source": [
    "a = 10\n",
    "print(type (a))"
   ]
  },
  {
   "cell_type": "code",
   "execution_count": 14,
   "metadata": {},
   "outputs": [
    {
     "name": "stdout",
     "output_type": "stream",
     "text": [
      "<class 'str'>\n"
     ]
    }
   ],
   "source": [
    "a =\"십\"\n",
    "print(type(a))"
   ]
  },
  {
   "cell_type": "code",
   "execution_count": 15,
   "metadata": {},
   "outputs": [
    {
     "name": "stdout",
     "output_type": "stream",
     "text": [
      "<class 'float'>\n"
     ]
    }
   ],
   "source": [
    "a = 10.1456\n",
    "print(type(a))"
   ]
  },
  {
   "cell_type": "markdown",
   "metadata": {},
   "source": [
    "숫자형   \n",
    "정수형 (byte, short, int, bigint)  \n",
    "=> 파이썬에서는 int형으로 통일함  \n",
    "실수형 (float)\n"
   ]
  },
  {
   "cell_type": "code",
   "execution_count": 19,
   "metadata": {},
   "outputs": [
    {
     "name": "stdout",
     "output_type": "stream",
     "text": [
      "56\n",
      "56\n",
      "<class 'int'>\n",
      "<class 'float'>\n",
      "<class 'int'>\n",
      "<class 'int'>\n"
     ]
    }
   ],
   "source": [
    "a = 123\n",
    "b = 1.2\n",
    "c = 0o70 #8진수\n",
    "d = 0x38 #16진수\n",
    "\n",
    "print(c)\n",
    "print(d)\n",
    "\n",
    "print(type(a))\n",
    "print(type(b))\n",
    "print(type(c))\n",
    "print(type(d))"
   ]
  },
  {
   "cell_type": "markdown",
   "metadata": {},
   "source": [
    "** : 제곱  \n",
    "// : 몫  \n",
    "% : 나머지"
   ]
  },
  {
   "cell_type": "code",
   "execution_count": 25,
   "metadata": {},
   "outputs": [
    {
     "name": "stdout",
     "output_type": "stream",
     "text": [
      "6561\n",
      "2\n",
      "1\n"
     ]
    }
   ],
   "source": [
    "a = 9\n",
    "b = 4\n",
    "c = a**b\n",
    "print(c)\n",
    "pow(3,4)\n",
    "\n",
    "c = a // b\n",
    "print(c)\n",
    "\n",
    "c = a%b\n",
    "print(c)"
   ]
  },
  {
   "cell_type": "code",
   "execution_count": 29,
   "metadata": {},
   "outputs": [
    {
     "name": "stdout",
     "output_type": "stream",
     "text": [
      "1 odd\n",
      "2 even\n",
      "3 odd\n",
      "4 even\n",
      "5 odd\n",
      "6 even\n",
      "7 odd\n",
      "8 even\n",
      "9 odd\n"
     ]
    }
   ],
   "source": [
    "a = 1\n",
    "while(a<10):\n",
    "    if (a%2 == 0):\n",
    "        print(a, \"even\")\n",
    "    else:\n",
    "        print(a, \"odd\")\n",
    "    a = a + 1"
   ]
  },
  {
   "cell_type": "code",
   "execution_count": 31,
   "metadata": {},
   "outputs": [
    {
     "name": "stdout",
     "output_type": "stream",
     "text": [
      "1\n"
     ]
    }
   ],
   "source": [
    "a = 7%3\n",
    "print(a)"
   ]
  },
  {
   "cell_type": "code",
   "execution_count": null,
   "metadata": {},
   "outputs": [],
   "source": [
    "#문제 \n",
    "# 1. 숫자 14를 3으로 나누었을 때 몫과 나머지를 구하라\n",
    "a = 14\n",
    "b = 3\n",
    "print(a//b)\n",
    "print(a%b)"
   ]
  },
  {
   "cell_type": "markdown",
   "metadata": {},
   "source": [
    "## 1-2 ) 문자형"
   ]
  },
  {
   "cell_type": "markdown",
   "metadata": {},
   "source": [
    "문자형 - \" \" or ' '  \n",
    "문자형 (srt) 밖에 없음  \n",
    "char(4byte)를 안쓴다"
   ]
  },
  {
   "cell_type": "code",
   "execution_count": 33,
   "metadata": {},
   "outputs": [
    {
     "name": "stdout",
     "output_type": "stream",
     "text": [
      "<class 'str'>\n"
     ]
    }
   ],
   "source": [
    "a = \"10\"\n",
    "print(type(a))"
   ]
  },
  {
   "cell_type": "code",
   "execution_count": 34,
   "metadata": {},
   "outputs": [
    {
     "name": "stdout",
     "output_type": "stream",
     "text": [
      "hi \n",
      " my name is \n",
      "\n"
     ]
    }
   ],
   "source": [
    "#줄바꿈(\\n)\n",
    "a = \"hi \\n my name is \\n\"\n",
    "print(a)"
   ]
  },
  {
   "cell_type": "code",
   "execution_count": 37,
   "metadata": {},
   "outputs": [
    {
     "name": "stdout",
     "output_type": "stream",
     "text": [
      " hi my nanme \n",
      "is \n",
      "mg cho\n"
     ]
    }
   ],
   "source": [
    "# ''' '''이면 줄바꿈도 적용해줌\n",
    "a = ''' hi my nanme \n",
    "is \n",
    "mg cho'''\n",
    "print(a)"
   ]
  },
  {
   "cell_type": "markdown",
   "metadata": {},
   "source": [
    "만약  \n",
    "\"\"\" 안녕 내 이름은 ''조민근'' 입니다 \"\"\"  \n",
    "는 왜 오류가 발생할까?  \n",
    "문자열을 정의하는 기호가 중복되기때문이다.  \n",
    "\"\"\" 으로 시작했는데 ''을 만나버림  \n",
    "=> escape 문자 (\\)사용 : 따옴표 내를 탈출시켜줌"
   ]
  },
  {
   "cell_type": "code",
   "execution_count": 40,
   "metadata": {},
   "outputs": [
    {
     "name": "stdout",
     "output_type": "stream",
     "text": [
      "hi my\"name\" is \"\"\"mgcho\"\"\"\n"
     ]
    }
   ],
   "source": [
    "a = 'hi my\\\"name\\\" is \\\"\"\"mgcho\\\"\"\"'\n",
    "print(a)"
   ]
  },
  {
   "cell_type": "markdown",
   "metadata": {},
   "source": [
    "문자열 연산 ?  \n",
    "+ : 문자열 (병렬)연결  \n",
    "* : 문자열 반복\n"
   ]
  },
  {
   "cell_type": "code",
   "execution_count": 47,
   "metadata": {},
   "outputs": [
    {
     "name": "stdout",
     "output_type": "stream",
     "text": [
      "오늘하루\n",
      "오늘오늘오늘오늘오늘\n"
     ]
    },
    {
     "data": {
      "text/plain": [
       "100"
      ]
     },
     "execution_count": 47,
     "metadata": {},
     "output_type": "execute_result"
    }
   ],
   "source": [
    "a = \"오늘\"\n",
    "b = \"하루\"\n",
    "print(a+b)\n",
    "\n",
    "# int + str  오류\n",
    "\"\"\"\n",
    "a = 10 #int\n",
    "b = \"개\"\n",
    "print(a+b) \"\"\"\n",
    "\n",
    "print(a * 5)\n",
    "len(a*50)\n"
   ]
  },
  {
   "cell_type": "code",
   "execution_count": 55,
   "metadata": {},
   "outputs": [
    {
     "name": "stdout",
     "output_type": "stream",
     "text": [
      "u\n",
      "love\n",
      "i love\n",
      "i love you\n"
     ]
    }
   ],
   "source": [
    "a = \"i love you\"\n",
    "print(a[-1])\n",
    "print(a[2:6]) #첫 커서 시작으로 : 글자를 4개 뽑는다.\n",
    "print(a[:6])\n",
    "print(a)"
   ]
  },
  {
   "cell_type": "markdown",
   "metadata": {},
   "source": [
    "문자형 포맷팅  \n",
    "%s : 문자열  \n",
    "%d : 숫자(정수)  \n",
    "%f : 실수  "
   ]
  },
  {
   "cell_type": "code",
   "execution_count": 1,
   "metadata": {},
   "outputs": [
    {
     "name": "stdout",
     "output_type": "stream",
     "text": [
      "i eat 100 apples\n",
      "i eat 100 apples 200 bananas\n",
      "i eat 200 apples 100 bananas\n"
     ]
    }
   ],
   "source": [
    "a = 100\n",
    "b = 200\n",
    "print (\"i eat %d apples\" %a)\n",
    "print (\"i eat %d apples %d bananas\" %(a,b))\n",
    "print (\"i eat {1} apples {0} bananas\".format(a,b))"
   ]
  },
  {
   "cell_type": "code",
   "execution_count": null,
   "metadata": {},
   "outputs": [],
   "source": [
    "# 2. 슬라이싱 short\n",
    "a = \"Life is too short you need python\"\n",
    "print(a[12:17])\n",
    "print(a[-21:-16])\n"
   ]
  },
  {
   "cell_type": "code",
   "execution_count": 2,
   "metadata": {},
   "outputs": [
    {
     "data": {
      "text/plain": [
       "'@@@Python@@@'"
      ]
     },
     "execution_count": 2,
     "metadata": {},
     "output_type": "execute_result"
    }
   ],
   "source": [
    "\"{0:1^12}\".format(\"Python\") # ^ : 가운데 정렬"
   ]
  },
  {
   "cell_type": "code",
   "execution_count": 22,
   "metadata": {},
   "outputs": [
    {
     "name": "stdout",
     "output_type": "stream",
     "text": [
      "HOBBY\n",
      "['a', 'b', 'c', 'd']\n"
     ]
    },
    {
     "data": {
      "text/plain": [
       "list"
      ]
     },
     "execution_count": 22,
     "metadata": {},
     "output_type": "execute_result"
    }
   ],
   "source": [
    "a = \"hobby\"\n",
    "#b의 개수 구하기\n",
    "a.count('b')\n",
    "#문자열 길이 구하기\n",
    "a.__len__()\n",
    "#특정 문자의 시작 자리 찾기\n",
    "a.find('b')\n",
    "#없으면?\n",
    "a.find('k') #오류를 발생하지 않고 못찾으면 -1 출력\n",
    "#index\n",
    "a.index('o')\n",
    "#index는 못찾으면 오류가 발생함\n",
    "\"\"\"a.index('k')\"\"\"\n",
    "#join : 글자 사이에 글자 삽입\n",
    "'@@'.join(a)\n",
    "#대문자로 바꾸기\n",
    "b = a.upper()\n",
    "print(b)\n",
    "#소문자로 바꾸기\n",
    "b.lower()\n",
    "\n",
    "#strip : 벗기다. r공백을 없애줌\n",
    "#lstrip\n",
    "a = \"   hi\"\n",
    "a.lstrip()\n",
    "#rstrip\n",
    "a = \"hi   \"\n",
    "a.rstrip()\n",
    "#strip  전체 없애줌\n",
    "a = \"   hi   \"\n",
    "a.strip()\n",
    "\n",
    "#replace 단어를 찾아서 교체해줌\n",
    "#replace(old text, new text)\n",
    "\n",
    "a = \"Life is too short\"\n",
    "a.replace('too','not')\n",
    "#없으면 에러 없이 변경 안됨\n",
    "\n",
    "#split \n",
    "a = 'a,b,c,d'\n",
    "a = a.split(',')\n",
    "print(a)\n",
    "type(a)\n",
    "\n"
   ]
  },
  {
   "cell_type": "markdown",
   "metadata": {},
   "source": [
    "## 1-3 ) 논리형"
   ]
  },
  {
   "attachments": {},
   "cell_type": "markdown",
   "metadata": {},
   "source": [
    "boolean : true or false  \n",
    "논리 연산자  \n",
    "& : and  \n",
    "// 참-참 True / 거짓-거짓 참-거짓 거짓-참 : False  \n",
    "| : or  \n",
    "//참이 하나라도 있으면 True  \n",
    "^ : xor   \n",
    "//  \n",
    "! : not   \n",
    "//  "
   ]
  },
  {
   "cell_type": "code",
   "execution_count": null,
   "metadata": {},
   "outputs": [],
   "source": []
  },
  {
   "attachments": {},
   "cell_type": "markdown",
   "metadata": {},
   "source": [
    "## 1-4 ) 리스트,튜플,딕셔너리"
   ]
  },
  {
   "cell_type": "code",
   "execution_count": 23,
   "metadata": {},
   "outputs": [
    {
     "data": {
      "text/plain": [
       "'threedays'"
      ]
     },
     "execution_count": 23,
     "metadata": {},
     "output_type": "execute_result"
    }
   ],
   "source": [
    "#리스트 []\n",
    "a = [\"three\",\"days\"]\n",
    "a[0]+a[1]"
   ]
  },
  {
   "cell_type": "code",
   "execution_count": 37,
   "metadata": {},
   "outputs": [
    {
     "name": "stdout",
     "output_type": "stream",
     "text": [
      "[6, 7]\n",
      "[1, 2]\n"
     ]
    }
   ],
   "source": [
    "#인덱스 안의 인덱스 추출\n",
    "a = [1,2,3,[4,5],[6,7,8]]\n",
    "print(a[4][0:2])\n",
    "print(a[0:2])"
   ]
  },
  {
   "cell_type": "code",
   "execution_count": 38,
   "metadata": {},
   "outputs": [
    {
     "data": {
      "text/plain": [
       "[2, 3]"
      ]
     },
     "execution_count": 38,
     "metadata": {},
     "output_type": "execute_result"
    }
   ],
   "source": [
    "#문제 2,3 슬라이싱\n",
    "a =[1,2,3,4,5]\n",
    "a[1:3]"
   ]
  },
  {
   "cell_type": "code",
   "execution_count": 42,
   "metadata": {},
   "outputs": [
    {
     "name": "stdout",
     "output_type": "stream",
     "text": [
      "[1, 2, 3, 4, 5, 4, 5]\n"
     ]
    },
    {
     "data": {
      "text/plain": [
       "[1, 2, 3, 4, 5, 1, 2, 3, 4, 5, 1, 2, 3, 4, 5]"
      ]
     },
     "execution_count": 42,
     "metadata": {},
     "output_type": "execute_result"
    }
   ],
   "source": [
    "#리스트끼리의 연산\n",
    "# + 는 뒤에 덧붙여짐\n",
    "a = [1,2,3,4,5]\n",
    "b = [4,5]\n",
    "print(a + b)\n",
    "# * 는 상수와 리스트만 가능\n",
    "\"\"\"a*b\"\"\"\n",
    "a*3 #=> 3번 반복하여 삽입됨\n",
    "\n",
    "# - 는 안됨"
   ]
  },
  {
   "cell_type": "code",
   "execution_count": 49,
   "metadata": {},
   "outputs": [
    {
     "data": {
      "text/plain": [
       "[1, 2, 'three', 5, 'six']"
      ]
     },
     "execution_count": 49,
     "metadata": {},
     "output_type": "execute_result"
    }
   ],
   "source": [
    "#리스트에 대체\n",
    "a = [1,2,3,4]\n",
    "a[2] = \"three\"\n",
    "a\n",
    "\n",
    "#리스트안 항목 삭제 del\n",
    "del a[3]\n",
    "\n",
    "#리스트에 추가 append\n",
    "a.append(5)\n",
    "a.append(\"six\")\n",
    "a"
   ]
  },
  {
   "cell_type": "code",
   "execution_count": 64,
   "metadata": {},
   "outputs": [
    {
     "name": "stdout",
     "output_type": "stream",
     "text": [
      "[1, 3, 7, 9]\n",
      "['a', 'b', 'l', 'q']\n",
      "q\n"
     ]
    },
    {
     "data": {
      "text/plain": [
       "['a', 'b', 'l']"
      ]
     },
     "execution_count": 64,
     "metadata": {},
     "output_type": "execute_result"
    }
   ],
   "source": [
    "#내림차순 정렬 sort \n",
    "a = [1,7,3,9]\n",
    "a.sort()\n",
    "print(a)\n",
    "a = ['b','a','l','q']\n",
    "a.sort()\n",
    "print(a)\n",
    "#문자나 숫자 찾기 index / 없으면 에러남\n",
    "a.index('b')\n",
    "#문자 삽입 insert(넣을 인덱스 위치, 넣을 문자나 숫자)\n",
    "a.insert(1,'Q')\n",
    "a\n",
    "#삭제 remove\n",
    "a.remove('Q')\n",
    "a\n",
    "#삭제하고 삭제한 값 출력하기\n",
    "print(a.pop(3))\n",
    "a\n"
   ]
  },
  {
   "cell_type": "code",
   "execution_count": 65,
   "metadata": {},
   "outputs": [
    {
     "name": "stdout",
     "output_type": "stream",
     "text": [
      "['h', 'a', 'p', 'p', 'y']\n"
     ]
    }
   ],
   "source": [
    "#형변환 str -> list\n",
    "str = \"happy\"\n",
    "str_l = list(str)\n",
    "print(str_l)"
   ]
  },
  {
   "cell_type": "code",
   "execution_count": 70,
   "metadata": {},
   "outputs": [
    {
     "name": "stdout",
     "output_type": "stream",
     "text": [
      "[1, 2, 3, 4, [6, 7]]\n",
      "[1, 2, 3, 4, [6, 7], 6, 7]\n"
     ]
    }
   ],
   "source": [
    "#extend = list형식을 병렬으로 붙여줌\n",
    "a =[1,2,3,4]\n",
    "a.append([6,7])\n",
    "print(a)\n",
    "a.extend([6,7])\n",
    "print(a)"
   ]
  },
  {
   "cell_type": "code",
   "execution_count": 75,
   "metadata": {},
   "outputs": [
    {
     "data": {
      "text/plain": [
       "5"
      ]
     },
     "execution_count": 75,
     "metadata": {},
     "output_type": "execute_result"
    }
   ],
   "source": [
    "#튜플 () \n",
    "a =()\n",
    "type(a)\n",
    "a = (1,2,3)\n",
    "a\n",
    "\n",
    "#del 으로 삭제 안됨\n",
    "\n",
    "a = (1,2,3,[4,5])\n",
    "a[:2]\n",
    "a[3][1]"
   ]
  },
  {
   "cell_type": "code",
   "execution_count": 78,
   "metadata": {},
   "outputs": [
    {
     "data": {
      "text/plain": [
       "(1, 2, 3, 4)"
      ]
     },
     "execution_count": 78,
     "metadata": {},
     "output_type": "execute_result"
    }
   ],
   "source": [
    "#문제\n",
    "a = (1,2,3)\n",
    "a = a + (4,) #4 , : 콤마가 있다면 튜플로 인식함\n",
    "a"
   ]
  },
  {
   "cell_type": "code",
   "execution_count": 89,
   "metadata": {},
   "outputs": [
    {
     "name": "stdout",
     "output_type": "stream",
     "text": [
      "dict_keys(['name', 'birth', 'phone'])\n",
      "['name', 'birth', 'phone']\n",
      "dict_items([('name', 'mgcho'), ('birth', '0130'), ('phone', '01032264145')])\n",
      "{}\n"
     ]
    }
   ],
   "source": [
    "#딕셔너리 {key : value}\n",
    "dic = {'name' : \"mgcho\", \"birth\" : \"0130\", \"phone\" : \"01032264145\"}\n",
    "dic['name']\n",
    "\n",
    "#키에는 리스트 못들어가지만 밸류에는 리스트 삽입 가능\n",
    "\"\"\"del dic['name']\n",
    "dic\"\"\"\n",
    "\n",
    "#dic의 key들 출력\n",
    "print(dic.keys())\n",
    "type(dic.keys())\n",
    "keys = list(dic.keys())\n",
    "print(keys)\n",
    "\n",
    "#dic 안의 튜플 출력\n",
    "print(dic.items())\n",
    "\n",
    "#dic 정리\n",
    "dic.clear()\n",
    "print(dic)\n"
   ]
  },
  {
   "cell_type": "code",
   "execution_count": 90,
   "metadata": {},
   "outputs": [
    {
     "data": {
      "text/plain": [
       "'apple'"
      ]
     },
     "execution_count": 90,
     "metadata": {},
     "output_type": "execute_result"
    }
   ],
   "source": [
    "a = {1 : 'apple', 2: 'banana', 3:'melon'}\n",
    "#key 값에 따르 value 가져오기\n",
    "a.get(1)\n"
   ]
  },
  {
   "cell_type": "code",
   "execution_count": null,
   "metadata": {},
   "outputs": [],
   "source": [
    "#문제\n",
    "\n",
    "dic  = {'name':'kang', 'birth':'1128','age':35}"
   ]
  },
  {
   "attachments": {},
   "cell_type": "markdown",
   "metadata": {},
   "source": [
    "## 1-5 ) 집합"
   ]
  },
  {
   "cell_type": "code",
   "execution_count": 98,
   "metadata": {},
   "outputs": [
    {
     "name": "stdout",
     "output_type": "stream",
     "text": [
      "<class 'set'>\n",
      "{1, 2, 3, 4, 5}\n"
     ]
    },
    {
     "data": {
      "text/plain": [
       "{1, 2, 3}"
      ]
     },
     "execution_count": 98,
     "metadata": {},
     "output_type": "execute_result"
    }
   ],
   "source": [
    "#집합 set() set 함수 안의 리스트 안의 값끼리 중복 x\n",
    "s1 = set([1,2,3,4,5])\n",
    "print(type(s1))\n",
    "print(s1)\n",
    "s2 = set([6,7,8,9])\n",
    "s3 = set([4,5,6,7,8])\n",
    "\n",
    "#교집합 구하기\n",
    "s1&s3\n",
    "s1.intersection(s3)\n",
    "\n",
    "#합집합 구하기\n",
    "s1|s3 #중복되는 4,5 한번만 포함됨 합집합 출력\n",
    "s1.union(s3)\n",
    "\n",
    "#차집합 구하기\n",
    "s1.difference(s3)\n"
   ]
  },
  {
   "cell_type": "code",
   "execution_count": 105,
   "metadata": {},
   "outputs": [
    {
     "data": {
      "text/plain": [
       "{1, 2, 3, 5, 6, 7, 8}"
      ]
     },
     "execution_count": 105,
     "metadata": {},
     "output_type": "execute_result"
    },
    {
     "ename": "",
     "evalue": "",
     "output_type": "error",
     "traceback": [
      "\u001b[1;31mThe Kernel crashed while executing code in the the current cell or a previous cell. Please review the code in the cell(s) to identify a possible cause of the failure. Click <a href='https://aka.ms/vscodeJupyterKernelCrash'>here</a> for more info. View Jupyter <a href='command:jupyter.viewOutput'>log</a> for further details."
     ]
    }
   ],
   "source": [
    "#집합에 추가(add)\n",
    "s1 = set([1,2,3,4,5])\n",
    "s1.add(6)\n",
    "s1\n",
    "\n",
    "#집합에 추가 extend랑 유사(update)\n",
    "s1.update([7,8])\n",
    "s1\n",
    "\n",
    "#집합에서 삭제 remove\n",
    "s1.remove(4)\n",
    "s1\n",
    "\n"
   ]
  }
 ],
 "metadata": {
  "kernelspec": {
   "display_name": "Python 3.9.13 64-bit (microsoft store)",
   "language": "python",
   "name": "python3"
  },
  "language_info": {
   "codemirror_mode": {
    "name": "ipython",
    "version": 3
   },
   "file_extension": ".py",
   "mimetype": "text/x-python",
   "name": "python",
   "nbconvert_exporter": "python",
   "pygments_lexer": "ipython3"
  },
  "orig_nbformat": 4,
  "vscode": {
   "interpreter": {
    "hash": "690a89ac2bc253cacc659a27e48f907909a6a06f2adb5e7b0fe392c4ba7cefd6"
   }
  }
 },
 "nbformat": 4,
 "nbformat_minor": 2
}
