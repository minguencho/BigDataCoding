{
 "cells": [
  {
   "attachments": {},
   "cell_type": "markdown",
   "metadata": {},
   "source": [
    "# 빅데이터 코딩 2주차"
   ]
  },
  {
   "attachments": {},
   "cell_type": "markdown",
   "metadata": {},
   "source": [
    "## 1) 매개 변수와 함수 "
   ]
  },
  {
   "cell_type": "code",
   "execution_count": 3,
   "metadata": {},
   "outputs": [
    {
     "name": "stdout",
     "output_type": "stream",
     "text": [
      "8\n"
     ]
    }
   ],
   "source": [
    "def add(a,b) :\n",
    "    return a+b\n",
    "\n",
    "result = add(a=3,b=5)\n",
    "\n",
    "print(result)\n"
   ]
  },
  {
   "cell_type": "code",
   "execution_count": 4,
   "metadata": {},
   "outputs": [
    {
     "name": "stdout",
     "output_type": "stream",
     "text": [
      "3\n",
      "5\n"
     ]
    }
   ],
   "source": [
    "def pri(a,b):\n",
    "    print(a)\n",
    "    print(b)\n",
    "\n",
    "pri(b=5,a=3)"
   ]
  },
  {
   "cell_type": "code",
   "execution_count": 6,
   "metadata": {},
   "outputs": [
    {
     "name": "stdout",
     "output_type": "stream",
     "text": [
      "10\n"
     ]
    }
   ],
   "source": [
    "#고정 변수\n",
    "\n",
    "def add_many(*args): # *를 사용하면 매개변수개수 지정하지 않아도 된다.\n",
    "    result = 0\n",
    "    for i in args:\n",
    "        result = result + i\n",
    "    return result\n",
    "\n",
    "result = add_many(1,2,3,4)\n",
    "print(result)\n"
   ]
  },
  {
   "cell_type": "code",
   "execution_count": 8,
   "metadata": {},
   "outputs": [
    {
     "name": "stdout",
     "output_type": "stream",
     "text": [
      "<class 'tuple'>\n"
     ]
    }
   ],
   "source": [
    "#동적 변수\n",
    "\n",
    "def check_many(*args):\n",
    "    print(type(args))\n",
    "\n",
    "check_many(10,20,30) #args의 타입은 튜플이다."
   ]
  },
  {
   "cell_type": "code",
   "execution_count": 12,
   "metadata": {},
   "outputs": [
    {
     "name": "stdout",
     "output_type": "stream",
     "text": [
      "10\n"
     ]
    }
   ],
   "source": [
    "#고정 변수 + 동적 변수\n",
    "\n",
    "def double_check(a,b,*num):\n",
    "    result = a*b\n",
    "    for i in num:\n",
    "        result = result + i\n",
    "    print(result)\n",
    "\n",
    "double_check(2,3,4)"
   ]
  },
  {
   "cell_type": "code",
   "execution_count": 1,
   "metadata": {},
   "outputs": [
    {
     "name": "stdout",
     "output_type": "stream",
     "text": [
      "{'name': 'apple', 'age': 3}\n"
     ]
    }
   ],
   "source": [
    "#keyword형 변수\n",
    "\n",
    "def print_kwargs(**kwargs):\n",
    "    print(kwargs)\n",
    "    type(kwargs)\n",
    "print_kwargs(name  = 'apple', age = 3)\n"
   ]
  },
  {
   "cell_type": "code",
   "execution_count": 4,
   "metadata": {},
   "outputs": [
    {
     "name": "stdout",
     "output_type": "stream",
     "text": [
      "my name is 성춘향\n",
      "my age is 27\n",
      "I'm man\n",
      "my name is 이몽룡\n",
      "my age is 25\n",
      "I' m man\n"
     ]
    }
   ],
   "source": [
    "def say_myself(name, old, man = True):\n",
    "    print(\"my name is %s\" % name)\n",
    "    print(\"my age is %d\" % old)\n",
    "    if man : \n",
    "        print('I\\' m man')\n",
    "    else : \n",
    "        print('I\\'m man')\n",
    "say_myself('성춘향', 27 , 0)\n",
    "say_myself('이몽룡',25) #입력 안해도 기본값이 True임\n"
   ]
  },
  {
   "cell_type": "code",
   "execution_count": 6,
   "metadata": {},
   "outputs": [
    {
     "name": "stdout",
     "output_type": "stream",
     "text": [
      "7\n"
     ]
    }
   ],
   "source": [
    "#lambda\n",
    "add = lambda a,b : a + b\n",
    "result  = add(3,4)\n",
    "print(result)"
   ]
  },
  {
   "cell_type": "code",
   "execution_count": null,
   "metadata": {},
   "outputs": [],
   "source": []
  },
  {
   "attachments": {},
   "cell_type": "markdown",
   "metadata": {},
   "source": [
    "## 2) 입출력"
   ]
  },
  {
   "attachments": {},
   "cell_type": "markdown",
   "metadata": {},
   "source": [
    "표준 입출력 함수  \n",
    "입력 장치 (키보드, 마우스)  \n",
    "출력 장치 (모니터, 프린터, 스피커)  \n",
    "  \n",
    "파일 입출력 함수  \n",
    "입력 파일(불러오기, 삭제하기)  \n",
    "출력 파일(저장하기, 추가하기) "
   ]
  },
  {
   "attachments": {},
   "cell_type": "markdown",
   "metadata": {},
   "source": [
    "### 표준 입출력 함수"
   ]
  },
  {
   "cell_type": "code",
   "execution_count": 7,
   "metadata": {},
   "outputs": [
    {
     "name": "stdout",
     "output_type": "stream",
     "text": [
      "11\n"
     ]
    }
   ],
   "source": [
    "a = input(\"첫번 째 숫자를 입력해주세요\")\n",
    "print(a)"
   ]
  },
  {
   "cell_type": "code",
   "execution_count": 13,
   "metadata": {},
   "outputs": [
    {
     "name": "stdout",
     "output_type": "stream",
     "text": [
      "3\n",
      "<class 'str'>\n",
      "3\n",
      "<class 'int'>\n"
     ]
    }
   ],
   "source": [
    "number = input(\"숫자를 입력하세요 : \")\n",
    "print(number)\n",
    "print(type(number)) #숫자를 입력했지만 str 타입으로 나옴\n",
    "\n",
    "number  = int(number)\n",
    "print(number)\n",
    "print(type(number))\n"
   ]
  },
  {
   "cell_type": "code",
   "execution_count": 15,
   "metadata": {},
   "outputs": [
    {
     "name": "stdout",
     "output_type": "stream",
     "text": [
      "lifeisgood\n",
      "happy new year\n"
     ]
    }
   ],
   "source": [
    "print(\"life\"\"is\"\"good\")\n",
    "\n",
    "print(\"happy\",\"new\",\"year\") #print에서 콜론 삽입하면 띄어쓰기 된다."
   ]
  },
  {
   "cell_type": "code",
   "execution_count": 19,
   "metadata": {},
   "outputs": [
    {
     "name": "stdout",
     "output_type": "stream",
     "text": [
      "0\n",
      "1\n",
      "2\n",
      "3\n",
      "4\n",
      "5\n",
      "6\n",
      "7\n",
      "8\n",
      "9\n",
      "0,1,2,3,4,5,6,7,8,9,"
     ]
    }
   ],
   "source": [
    "for i in range(10):\n",
    "    print(i) #자동 줄 바꿈\n",
    "\n",
    "for i in range(10):\n",
    "    print(i,end=',') # end = 삽입 문자 를 통해 출력 "
   ]
  },
  {
   "attachments": {},
   "cell_type": "markdown",
   "metadata": {},
   "source": [
    "### 파일 입출력 함수"
   ]
  },
  {
   "attachments": {},
   "cell_type": "markdown",
   "metadata": {},
   "source": [
    "### "
   ]
  },
  {
   "cell_type": "code",
   "execution_count": 21,
   "metadata": {},
   "outputs": [],
   "source": [
    "# file 열기\n",
    "# open(이름,생성자,형식)\n",
    "# ./는 현재 폴더 ../는 해당 폴더 상위\n",
    "# 'w' - write 쓰기 모드 (덮어쓰기)\n",
    "# 'a' - append 추가 모드\n",
    "# 'r' - read 읽기 모드 (수정 불가)\n",
    "\n",
    "f = open('test.txt','w')\n",
    "\n",
    "f = open('../readme.txt','w')\n",
    "\n",
    "f.close() # close 안시키면 open이 실행 되는 동안 연결이 지속됨\n"
   ]
  },
  {
   "cell_type": "code",
   "execution_count": 25,
   "metadata": {},
   "outputs": [],
   "source": [
    "#작성\n",
    "f = open('test.txt','w',encoding='utf8') #encoding으로 유니코드에 맞춰줘야함\n",
    "for i in range(1,11):\n",
    "    data = \"%d번째 있는 줄입니다\\n\" % i\n",
    "    f.write(data) #f.write(\"글자\")\n",
    "f.close()"
   ]
  },
  {
   "cell_type": "code",
   "execution_count": 35,
   "metadata": {},
   "outputs": [
    {
     "name": "stdout",
     "output_type": "stream",
     "text": [
      "1번째 있는 줄입니다\n",
      "\n",
      "2번째 있는 줄입니다\n",
      "\n",
      "3번째 있는 줄입니다\n",
      "\n",
      "4번째 있는 줄입니다\n",
      "\n",
      "5번째 있는 줄입니다\n",
      "\n",
      "6번째 있는 줄입니다\n",
      "\n",
      "7번째 있는 줄입니다\n",
      "\n",
      "8번째 있는 줄입니다\n",
      "\n",
      "9번째 있는 줄입니다\n",
      "\n",
      "10번째 있는 줄입니다\n",
      "\n"
     ]
    }
   ],
   "source": [
    "#읽기\n",
    "f = open('test.txt','r',encoding='utf8')\n",
    "lines = f.readlines()\n",
    "for line in lines:\n",
    "    print(line)\n",
    "f.close()"
   ]
  },
  {
   "attachments": {},
   "cell_type": "markdown",
   "metadata": {},
   "source": [
    "## 3) 클래스와 모듈"
   ]
  },
  {
   "attachments": {},
   "cell_type": "markdown",
   "metadata": {},
   "source": [
    "Class  \n",
    ": method와 instance로 이루어짐(함수 + 변수)  \n",
    "Module  \n",
    ": libary와 비슷한 개념이지만 사용성이 모듈이 더 높다. 형태적인 느낌임.  \n"
   ]
  },
  {
   "attachments": {},
   "cell_type": "markdown",
   "metadata": {},
   "source": [
    "### class"
   ]
  },
  {
   "cell_type": "code",
   "execution_count": null,
   "metadata": {},
   "outputs": [],
   "source": [
    "class Calculator:\n",
    "    #생성자 : 이 클래스가 사용될 때 필요한 초기값 설정\n",
    "    def __init__(self):\n",
    "        self.result = 0\n",
    "    \n",
    "    def add(self, num):\n",
    "        self.result = self.result + num\n",
    "        return self.result\n",
    "    \n",
    "\n",
    "cal1 = Calculator()\n",
    "cal2 = Calculator()\n",
    "\n",
    "print(cal1.add(3))\n",
    "print(cal2.add(5))\n",
    "print(cal1.add(7))\n",
    "print(cal2.add(5))"
   ]
  },
  {
   "attachments": {},
   "cell_type": "markdown",
   "metadata": {},
   "source": [
    "### module"
   ]
  },
  {
   "attachments": {},
   "cell_type": "markdown",
   "metadata": {},
   "source": [
    "#### os module"
   ]
  },
  {
   "cell_type": "code",
   "execution_count": 6,
   "metadata": {},
   "outputs": [],
   "source": [
    "import os"
   ]
  },
  {
   "cell_type": "code",
   "execution_count": 3,
   "metadata": {},
   "outputs": [
    {
     "name": "stdout",
     "output_type": "stream",
     "text": [
      "c:\\Users\\조민근\\Desktop\\BD_coding\\Prac_file\\class2\n"
     ]
    }
   ],
   "source": [
    "#현재 폴더 위치 찾아오는 함수 getcwd\n",
    "print(os.getcwd())\n"
   ]
  },
  {
   "cell_type": "code",
   "execution_count": null,
   "metadata": {},
   "outputs": [],
   "source": [
    "#폴더 변경하기 chdir\n",
    "\"\"\"print(os.chdir(\"c:\\\\users))\"\"\"\n",
    "# C:(C드라이버)이후 '\\'로 경로 설정 '/'아님!!\n",
    "# \\\\users\\\\ 일때 \\user\\를 경로이름으로 알고 \\를 양 쪽에 하나 더 붙여 탈출 시켜줌."
   ]
  },
  {
   "cell_type": "code",
   "execution_count": 5,
   "metadata": {},
   "outputs": [
    {
     "name": "stdout",
     "output_type": "stream",
     "text": [
      "['cal_project.py', 'function.py', 'prac_2week.ipynb', 'test.txt', 'text.py', 'write.py']\n"
     ]
    }
   ],
   "source": [
    "print(os.listdir())"
   ]
  },
  {
   "attachments": {},
   "cell_type": "markdown",
   "metadata": {},
   "source": [
    "#### file module"
   ]
  },
  {
   "cell_type": "code",
   "execution_count": 27,
   "metadata": {},
   "outputs": [],
   "source": [
    "f = open('test.txt','w')\n",
    "f.write('hi my name is mgcho')\n",
    "f.close()"
   ]
  },
  {
   "cell_type": "code",
   "execution_count": 28,
   "metadata": {},
   "outputs": [],
   "source": [
    "f = open('test.txt','a')\n",
    "f.write('\\nnice meet you')\n",
    "f.close()"
   ]
  },
  {
   "cell_type": "code",
   "execution_count": 30,
   "metadata": {},
   "outputs": [
    {
     "name": "stdout",
     "output_type": "stream",
     "text": [
      "hi my name is mgcho\n",
      "\n",
      "nice meet you\n",
      "\n",
      "test\n"
     ]
    }
   ],
   "source": [
    "f = open('test.txt','r', encoding = 'utf8')\n",
    "lines = f.readlines()\n",
    "for line in lines:\n",
    "    print(line)\n",
    "f.close()"
   ]
  },
  {
   "cell_type": "code",
   "execution_count": 29,
   "metadata": {},
   "outputs": [],
   "source": [
    "#이 방법을 쓰면 close 자동으로 해줌\n",
    "with open('test.txt','a') as f:\n",
    "    f.write(\"\\ntest\")"
   ]
  },
  {
   "cell_type": "code",
   "execution_count": 31,
   "metadata": {},
   "outputs": [
    {
     "name": "stdout",
     "output_type": "stream",
     "text": [
      "hi my name is mgcho\n",
      "\n",
      "nice meet you\n",
      "\n",
      "test\n"
     ]
    }
   ],
   "source": [
    "with open('test.txt','r') as f:\n",
    "    lines = f.readlines()\n",
    "    for line in lines:\n",
    "        print(line)"
   ]
  },
  {
   "cell_type": "code",
   "execution_count": null,
   "metadata": {},
   "outputs": [],
   "source": [
    "# codecs : 한글 인코딩/디코딩 툴\n",
    "import codecs"
   ]
  },
  {
   "attachments": {},
   "cell_type": "markdown",
   "metadata": {},
   "source": [
    "## 4) 정규 표현식"
   ]
  },
  {
   "attachments": {},
   "cell_type": "markdown",
   "metadata": {},
   "source": [
    "re : 정규식 관련 모듈"
   ]
  },
  {
   "cell_type": "code",
   "execution_count": 32,
   "metadata": {},
   "outputs": [],
   "source": [
    "import re"
   ]
  },
  {
   "cell_type": "code",
   "execution_count": 37,
   "metadata": {},
   "outputs": [
    {
     "name": "stdout",
     "output_type": "stream",
     "text": [
      "<re.Match object; span=(0, 4), match='life'>\n",
      "life\n"
     ]
    }
   ],
   "source": [
    "# match(정규표현식, 문자열) : 완전 일치 되는 것을 찾는다.\n",
    "pattern = r'life'\n",
    "script = \"life\"\n",
    "print(re.match(pattern,script))\n",
    "print(re.match(pattern,script).group())"
   ]
  },
  {
   "cell_type": "code",
   "execution_count": 41,
   "metadata": {},
   "outputs": [
    {
     "name": "stdout",
     "output_type": "stream",
     "text": [
      "<re.Match object; span=(3, 7), match='life'>\n",
      "life\n"
     ]
    }
   ],
   "source": [
    "# search(정규표현식, 문자열) : 문장 중 일치되는 것을 찾는다.\n",
    "pattern = r'life'\n",
    "script = 'my life and your life'\n",
    "print(re.search(pattern,script))\n",
    "print(re.search(pattern,script).group()) #life가 두개지만 하나만 출력됨."
   ]
  },
  {
   "attachments": {},
   "cell_type": "markdown",
   "metadata": {},
   "source": [
    "? : 한칸, * : 칸 제한 x , {n} : n칸  \n",
    "\\d : 숫자, \\s : 공백, \\w : 한개의 알파벳 혹은 숫자"
   ]
  },
  {
   "cell_type": "code",
   "execution_count": 45,
   "metadata": {},
   "outputs": [
    {
     "name": "stdout",
     "output_type": "stream",
     "text": [
      "['123456', '654321']\n"
     ]
    }
   ],
   "source": [
    "#find all(정규 표현식, 문자열) : 중복이 있어도 리스트 형식으로 반환해준다.\n",
    "number = 'my number is 123456-1****** and yours is 654321-******'\n",
    "print(re.findall('\\d{6}',number)) #6개 이상의 숫자가 붙어있는 것을 찾음."
   ]
  }
 ],
 "metadata": {
  "kernelspec": {
   "display_name": "Python 3",
   "language": "python",
   "name": "python3"
  },
  "language_info": {
   "codemirror_mode": {
    "name": "ipython",
    "version": 3
   },
   "file_extension": ".py",
   "mimetype": "text/x-python",
   "name": "python",
   "nbconvert_exporter": "python",
   "pygments_lexer": "ipython3",
   "version": "3.9.13"
  },
  "orig_nbformat": 4,
  "vscode": {
   "interpreter": {
    "hash": "690a89ac2bc253cacc659a27e48f907909a6a06f2adb5e7b0fe392c4ba7cefd6"
   }
  }
 },
 "nbformat": 4,
 "nbformat_minor": 2
}
