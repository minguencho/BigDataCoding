{
 "cells": [
  {
   "attachments": {},
   "cell_type": "markdown",
   "metadata": {},
   "source": [
    "# 빅데이터 코딩 2주차"
   ]
  },
  {
   "attachments": {},
   "cell_type": "markdown",
   "metadata": {},
   "source": [
    "## 1) 매개 변수와 함수 "
   ]
  },
  {
   "cell_type": "code",
   "execution_count": 3,
   "metadata": {},
   "outputs": [
    {
     "name": "stdout",
     "output_type": "stream",
     "text": [
      "8\n"
     ]
    }
   ],
   "source": [
    "def add(a,b) :\n",
    "    return a+b\n",
    "\n",
    "result = add(a=3,b=5)\n",
    "\n",
    "print(result)\n"
   ]
  },
  {
   "cell_type": "code",
   "execution_count": 4,
   "metadata": {},
   "outputs": [
    {
     "name": "stdout",
     "output_type": "stream",
     "text": [
      "3\n",
      "5\n"
     ]
    }
   ],
   "source": [
    "def pri(a,b):\n",
    "    print(a)\n",
    "    print(b)\n",
    "\n",
    "pri(b=5,a=3)"
   ]
  },
  {
   "cell_type": "code",
   "execution_count": 6,
   "metadata": {},
   "outputs": [
    {
     "name": "stdout",
     "output_type": "stream",
     "text": [
      "10\n"
     ]
    }
   ],
   "source": [
    "#고정 변수\n",
    "\n",
    "def add_many(*args): # *를 사용하면 매개변수개수 지정하지 않아도 된다.\n",
    "    result = 0\n",
    "    for i in args:\n",
    "        result = result + i\n",
    "    return result\n",
    "\n",
    "result = add_many(1,2,3,4)\n",
    "print(result)\n"
   ]
  },
  {
   "cell_type": "code",
   "execution_count": 8,
   "metadata": {},
   "outputs": [
    {
     "name": "stdout",
     "output_type": "stream",
     "text": [
      "<class 'tuple'>\n"
     ]
    }
   ],
   "source": [
    "#동적 변수\n",
    "\n",
    "def check_many(*args):\n",
    "    print(type(args))\n",
    "\n",
    "check_many(10,20,30) #args의 타입은 튜플이다."
   ]
  },
  {
   "cell_type": "code",
   "execution_count": 12,
   "metadata": {},
   "outputs": [
    {
     "name": "stdout",
     "output_type": "stream",
     "text": [
      "10\n"
     ]
    }
   ],
   "source": [
    "#고정 변수 + 동적 변수\n",
    "\n",
    "def double_check(a,b,*num):\n",
    "    result = a*b\n",
    "    for i in num:\n",
    "        result = result + i\n",
    "    print(result)\n",
    "\n",
    "double_check(2,3,4)"
   ]
  },
  {
   "cell_type": "code",
   "execution_count": 1,
   "metadata": {},
   "outputs": [
    {
     "name": "stdout",
     "output_type": "stream",
     "text": [
      "{'name': 'apple', 'age': 3}\n"
     ]
    }
   ],
   "source": [
    "#keyword형 변수\n",
    "\n",
    "def print_kwargs(**kwargs):\n",
    "    print(kwargs)\n",
    "    type(kwargs)\n",
    "print_kwargs(name  = 'apple', age = 3)\n"
   ]
  },
  {
   "cell_type": "code",
   "execution_count": 4,
   "metadata": {},
   "outputs": [
    {
     "name": "stdout",
     "output_type": "stream",
     "text": [
      "my name is 성춘향\n",
      "my age is 27\n",
      "I'm man\n",
      "my name is 이몽룡\n",
      "my age is 25\n",
      "I' m man\n"
     ]
    }
   ],
   "source": [
    "def say_myself(name, old, man = True):\n",
    "    print(\"my name is %s\" % name)\n",
    "    print(\"my age is %d\" % old)\n",
    "    if man : \n",
    "        print('I\\' m man')\n",
    "    else : \n",
    "        print('I\\'m man')\n",
    "say_myself('성춘향', 27 , 0)\n",
    "say_myself('이몽룡',25) #입력 안해도 기본값이 True임\n"
   ]
  },
  {
   "cell_type": "code",
   "execution_count": 6,
   "metadata": {},
   "outputs": [
    {
     "name": "stdout",
     "output_type": "stream",
     "text": [
      "7\n"
     ]
    }
   ],
   "source": [
    "#lambda\n",
    "add = lambda a,b : a + b\n",
    "result  = add(3,4)\n",
    "print(result)"
   ]
  },
  {
   "cell_type": "code",
   "execution_count": null,
   "metadata": {},
   "outputs": [],
   "source": []
  },
  {
   "attachments": {},
   "cell_type": "markdown",
   "metadata": {},
   "source": [
    "## 입출력"
   ]
  },
  {
   "attachments": {},
   "cell_type": "markdown",
   "metadata": {},
   "source": [
    "표준 입출력 함수  \n",
    "입력 장치 (키보드, 마우스)  \n",
    "출력 장치 (모니터, 프린터, 스피커)  \n",
    "  \n",
    "파일 입출력 함수  \n",
    "입력 파일(불러오기, 삭제하기)  \n",
    "출력 파일(저장하기, 추가하기) "
   ]
  },
  {
   "attachments": {},
   "cell_type": "markdown",
   "metadata": {},
   "source": [
    "## 표준 입출력 함수"
   ]
  },
  {
   "cell_type": "code",
   "execution_count": 7,
   "metadata": {},
   "outputs": [
    {
     "name": "stdout",
     "output_type": "stream",
     "text": [
      "11\n"
     ]
    }
   ],
   "source": [
    "a = input(\"첫번 째 숫자를 입력해주세요\")\n",
    "print(a)"
   ]
  },
  {
   "cell_type": "code",
   "execution_count": 13,
   "metadata": {},
   "outputs": [
    {
     "name": "stdout",
     "output_type": "stream",
     "text": [
      "3\n",
      "<class 'str'>\n",
      "3\n",
      "<class 'int'>\n"
     ]
    }
   ],
   "source": [
    "number = input(\"숫자를 입력하세요 : \")\n",
    "print(number)\n",
    "print(type(number)) #숫자를 입력했지만 str 타입으로 나옴\n",
    "\n",
    "number  = int(number)\n",
    "print(number)\n",
    "print(type(number))\n"
   ]
  },
  {
   "cell_type": "code",
   "execution_count": 15,
   "metadata": {},
   "outputs": [
    {
     "name": "stdout",
     "output_type": "stream",
     "text": [
      "lifeisgood\n",
      "happy new year\n"
     ]
    }
   ],
   "source": [
    "print(\"life\"\"is\"\"good\")\n",
    "\n",
    "print(\"happy\",\"new\",\"year\") #print에서 콜론 삽입하면 띄어쓰기 된다."
   ]
  },
  {
   "cell_type": "code",
   "execution_count": 19,
   "metadata": {},
   "outputs": [
    {
     "name": "stdout",
     "output_type": "stream",
     "text": [
      "0\n",
      "1\n",
      "2\n",
      "3\n",
      "4\n",
      "5\n",
      "6\n",
      "7\n",
      "8\n",
      "9\n",
      "0,1,2,3,4,5,6,7,8,9,"
     ]
    }
   ],
   "source": [
    "for i in range(10):\n",
    "    print(i) #자동 줄 바꿈\n",
    "\n",
    "for i in range(10):\n",
    "    print(i,end=',') # end = 삽입 문자 를 통해 출력 "
   ]
  },
  {
   "attachments": {},
   "cell_type": "markdown",
   "metadata": {},
   "source": [
    "## 파일 입출력 함수"
   ]
  },
  {
   "attachments": {},
   "cell_type": "markdown",
   "metadata": {},
   "source": [
    "### "
   ]
  },
  {
   "cell_type": "code",
   "execution_count": 21,
   "metadata": {},
   "outputs": [],
   "source": [
    "# file 열기\n",
    "# open(이름,생성자,형식)\n",
    "# ./는 현재 폴더 ../는 해당 폴더 상위\n",
    "# 'w' - write 쓰기 모드 (덮어쓰기)\n",
    "# 'a' - append 추가 모드\n",
    "# 'r' - read 읽기 모드 (수정 불가)\n",
    "f = open('test.txt','w')\n",
    "f = open('../readme.txt','w')\n",
    "f.close() # close 안시키면 open이 실행 되는 동안 연결이 지속됨\n"
   ]
  },
  {
   "cell_type": "code",
   "execution_count": 25,
   "metadata": {},
   "outputs": [],
   "source": [
    "#작성\n",
    "f = open('test.txt','w',encoding='utf8') #encoding으로 유니코드에 맞춰줘야함\n",
    "for i in range(1,11):\n",
    "    data = \"%d번째 있는 줄입니다\\n\" % i\n",
    "    f.write(data) #f.write(\"글자\")\n",
    "f.close()"
   ]
  },
  {
   "cell_type": "code",
   "execution_count": 35,
   "metadata": {},
   "outputs": [
    {
     "name": "stdout",
     "output_type": "stream",
     "text": [
      "1번째 있는 줄입니다\n",
      "\n",
      "2번째 있는 줄입니다\n",
      "\n",
      "3번째 있는 줄입니다\n",
      "\n",
      "4번째 있는 줄입니다\n",
      "\n",
      "5번째 있는 줄입니다\n",
      "\n",
      "6번째 있는 줄입니다\n",
      "\n",
      "7번째 있는 줄입니다\n",
      "\n",
      "8번째 있는 줄입니다\n",
      "\n",
      "9번째 있는 줄입니다\n",
      "\n",
      "10번째 있는 줄입니다\n",
      "\n"
     ]
    }
   ],
   "source": [
    "#읽기\n",
    "f = open('test.txt','r',encoding='utf8')\n",
    "lines = f.readlines()\n",
    "for line in lines:\n",
    "    print(line)\n",
    "f.close()"
   ]
  },
  {
   "attachments": {},
   "cell_type": "markdown",
   "metadata": {},
   "source": [
    "## 클래스와 모듈"
   ]
  },
  {
   "attachments": {},
   "cell_type": "markdown",
   "metadata": {},
   "source": [
    "Class(객체지향프로그래밍의 개념 중 하나)\n",
    ": method와 instance로 이루어짐(함수 + 변수) \n",
    "Module\n",
    ": "
   ]
  },
  {
   "cell_type": "code",
   "execution_count": null,
   "metadata": {},
   "outputs": [],
   "source": [
    "class Calculator:\n",
    "    #생성자 : 이 클래스가 사용될 때 필요한 초기값 설정\n",
    "    def __init__(self):\n",
    "        self.result = 0\n",
    "    \n",
    "    def add(self, num):\n",
    "        self.result = self.result + num\n",
    "        return self.result\n",
    "    \n",
    "\n",
    "cal1 = Calculator()\n",
    "cal2 = Calculator()\n",
    "\n",
    "print(cal1.add(3))\n",
    "print(cal2.add(5))\n",
    "print(cal1.add(7))\n",
    "print(cal2.add(5))"
   ]
  },
  {
   "cell_type": "code",
   "execution_count": null,
   "metadata": {},
   "outputs": [],
   "source": [
    "import numpy\n",
    "print (\"Happy New Year\")"
   ]
  }
 ],
 "metadata": {
  "kernelspec": {
   "display_name": "Python 3",
   "language": "python",
   "name": "python3"
  },
  "language_info": {
   "codemirror_mode": {
    "name": "ipython",
    "version": 3
   },
   "file_extension": ".py",
   "mimetype": "text/x-python",
   "name": "python",
   "nbconvert_exporter": "python",
   "pygments_lexer": "ipython3",
   "version": "3.9.13"
  },
  "orig_nbformat": 4,
  "vscode": {
   "interpreter": {
    "hash": "690a89ac2bc253cacc659a27e48f907909a6a06f2adb5e7b0fe392c4ba7cefd6"
   }
  }
 },
 "nbformat": 4,
 "nbformat_minor": 2
}
